{
 "cells": [
  {
   "cell_type": "code",
   "execution_count": 1,
   "id": "7ecf95ab",
   "metadata": {},
   "outputs": [],
   "source": [
    "import pandas as pd"
   ]
  },
  {
   "cell_type": "code",
   "execution_count": 2,
   "id": "106e8877",
   "metadata": {},
   "outputs": [
    {
     "data": {
      "text/html": [
       "<div>\n",
       "<style scoped>\n",
       "    .dataframe tbody tr th:only-of-type {\n",
       "        vertical-align: middle;\n",
       "    }\n",
       "\n",
       "    .dataframe tbody tr th {\n",
       "        vertical-align: top;\n",
       "    }\n",
       "\n",
       "    .dataframe thead th {\n",
       "        text-align: right;\n",
       "    }\n",
       "</style>\n",
       "<table border=\"1\" class=\"dataframe\">\n",
       "  <thead>\n",
       "    <tr style=\"text-align: right;\">\n",
       "      <th></th>\n",
       "      <th>num</th>\n",
       "      <th>name</th>\n",
       "      <th>content</th>\n",
       "      <th>decode_content</th>\n",
       "      <th>preprocessed_content</th>\n",
       "      <th>embeddings</th>\n",
       "      <th>name_embeddings</th>\n",
       "    </tr>\n",
       "  </thead>\n",
       "  <tbody>\n",
       "    <tr>\n",
       "      <th>0</th>\n",
       "      <td>9251120</td>\n",
       "      <td>maybe this time (2014)</td>\n",
       "      <td>b'PK\\x03\\x04\\x14\\x00\\x00\\x00\\x08\\x00\\x89\\x9a\\x...</td>\n",
       "      <td>watch video online opensubtitles free browser ...</td>\n",
       "      <td>w a t c h   v i d e o   o n l i n e   o p e n ...</td>\n",
       "      <td>[-0.012728696689009666, -0.02849053405225277, ...</td>\n",
       "      <td>[-0.08506689220666885, -0.04535580053925514, 0...</td>\n",
       "    </tr>\n",
       "    <tr>\n",
       "      <th>1</th>\n",
       "      <td>9211589</td>\n",
       "      <td>down the shore s01 e10 and justice for all (1992)</td>\n",
       "      <td>b'PK\\x03\\x04\\x14\\x00\\x00\\x00\\x08\\x007\\x8f\\x99V...</td>\n",
       "      <td>oh know getting late dont wan na go home im hu...</td>\n",
       "      <td>o h   k n o w   g e t t i n g   l a t e   d o ...</td>\n",
       "      <td>[-0.01504597533494234, -0.03527138754725456, 0...</td>\n",
       "      <td>[-0.08635919541120529, 0.02191741392016411, -0...</td>\n",
       "    </tr>\n",
       "    <tr>\n",
       "      <th>2</th>\n",
       "      <td>9380845</td>\n",
       "      <td>uncontrollably fond s01 e07 heartache (2016)</td>\n",
       "      <td>b'PK\\x03\\x04\\x14\\x00\\x00\\x00\\x08\\x00\\x8f\\x19\\x...</td>\n",
       "      <td>timing subtitle uncontrollable lovebird team v...</td>\n",
       "      <td>t i m i n g   s u b t i t l e   u n c o n t r ...</td>\n",
       "      <td>[-0.01909727044403553, -0.0297322366386652, 0....</td>\n",
       "      <td>[-0.08913926780223846, 0.025856122374534607, 0...</td>\n",
       "    </tr>\n",
       "    <tr>\n",
       "      <th>3</th>\n",
       "      <td>9301436</td>\n",
       "      <td>screen two s13 e04 the precious blood (1996)</td>\n",
       "      <td>b'PK\\x03\\x04\\x14\\x00\\x00\\x00\\x08\\x00[\\xaa\\x99V...</td>\n",
       "      <td>ethereal music apiopensubtitlesorg deprecated ...</td>\n",
       "      <td>e t h e r e a l   m u s i c   a p i o p e n s ...</td>\n",
       "      <td>[-0.015867426991462708, -0.03858168050646782, ...</td>\n",
       "      <td>[-0.13012148439884186, 0.05022076144814491, -0...</td>\n",
       "    </tr>\n",
       "    <tr>\n",
       "      <th>4</th>\n",
       "      <td>9408707</td>\n",
       "      <td>battlebots (2015)</td>\n",
       "      <td>b'PK\\x03\\x04\\x14\\x00\\x00\\x00\\x08\\x00\\xf4&lt;\\x9aV...</td>\n",
       "      <td>chris oh minibots yelling oh leave little bot ...</td>\n",
       "      <td>c h r i s   o h   m i n i b o t s   y e l l i ...</td>\n",
       "      <td>[-0.008731151930987835, -0.037723977118730545,...</td>\n",
       "      <td>[-0.13012008368968964, 0.046329960227012634, 0...</td>\n",
       "    </tr>\n",
       "  </tbody>\n",
       "</table>\n",
       "</div>"
      ],
      "text/plain": [
       "       num                                               name  \\\n",
       "0  9251120                             maybe this time (2014)   \n",
       "1  9211589  down the shore s01 e10 and justice for all (1992)   \n",
       "2  9380845       uncontrollably fond s01 e07 heartache (2016)   \n",
       "3  9301436       screen two s13 e04 the precious blood (1996)   \n",
       "4  9408707                                  battlebots (2015)   \n",
       "\n",
       "                                             content  \\\n",
       "0  b'PK\\x03\\x04\\x14\\x00\\x00\\x00\\x08\\x00\\x89\\x9a\\x...   \n",
       "1  b'PK\\x03\\x04\\x14\\x00\\x00\\x00\\x08\\x007\\x8f\\x99V...   \n",
       "2  b'PK\\x03\\x04\\x14\\x00\\x00\\x00\\x08\\x00\\x8f\\x19\\x...   \n",
       "3  b'PK\\x03\\x04\\x14\\x00\\x00\\x00\\x08\\x00[\\xaa\\x99V...   \n",
       "4  b'PK\\x03\\x04\\x14\\x00\\x00\\x00\\x08\\x00\\xf4<\\x9aV...   \n",
       "\n",
       "                                      decode_content  \\\n",
       "0  watch video online opensubtitles free browser ...   \n",
       "1  oh know getting late dont wan na go home im hu...   \n",
       "2  timing subtitle uncontrollable lovebird team v...   \n",
       "3  ethereal music apiopensubtitlesorg deprecated ...   \n",
       "4  chris oh minibots yelling oh leave little bot ...   \n",
       "\n",
       "                                preprocessed_content  \\\n",
       "0  w a t c h   v i d e o   o n l i n e   o p e n ...   \n",
       "1  o h   k n o w   g e t t i n g   l a t e   d o ...   \n",
       "2  t i m i n g   s u b t i t l e   u n c o n t r ...   \n",
       "3  e t h e r e a l   m u s i c   a p i o p e n s ...   \n",
       "4  c h r i s   o h   m i n i b o t s   y e l l i ...   \n",
       "\n",
       "                                          embeddings  \\\n",
       "0  [-0.012728696689009666, -0.02849053405225277, ...   \n",
       "1  [-0.01504597533494234, -0.03527138754725456, 0...   \n",
       "2  [-0.01909727044403553, -0.0297322366386652, 0....   \n",
       "3  [-0.015867426991462708, -0.03858168050646782, ...   \n",
       "4  [-0.008731151930987835, -0.037723977118730545,...   \n",
       "\n",
       "                                     name_embeddings  \n",
       "0  [-0.08506689220666885, -0.04535580053925514, 0...  \n",
       "1  [-0.08635919541120529, 0.02191741392016411, -0...  \n",
       "2  [-0.08913926780223846, 0.025856122374534607, 0...  \n",
       "3  [-0.13012148439884186, 0.05022076144814491, -0...  \n",
       "4  [-0.13012008368968964, 0.046329960227012634, 0...  "
      ]
     },
     "execution_count": 2,
     "metadata": {},
     "output_type": "execute_result"
    }
   ],
   "source": [
    "df = pd.read_csv(r\"C:\\Users\\justin\\Downloads\\search engine project\\embeddings_data.csv\")\n",
    "df.head()"
   ]
  },
  {
   "cell_type": "code",
   "execution_count": 3,
   "id": "f4b360d2",
   "metadata": {},
   "outputs": [],
   "source": [
    "import chromadb\n",
    "client = chromadb.PersistentClient(path=r\"C:\\Users\\justin\\Downloads\\search engine project\")\n",
    "collection = client.get_or_create_collection(name=\"search_engine\", metadata={\"hnsw:space\": \"cosine\"})\n",
    "collection_2 = client.get_or_create_collection(name=\"search_engine_FileName\", metadata={\"hnsw:space\": \"cosine\"})"
   ]
  },
  {
   "cell_type": "code",
   "execution_count": 12,
   "id": "f6f1f69e",
   "metadata": {},
   "outputs": [],
   "source": [
    "def add_func_v1():\n",
    "    for i in range(df.shape[0]):\n",
    "        collection_2.add(\n",
    "            ids=[str(i)],  # Convert the ID to string\n",
    "            documents=[df['name'].iloc[i]],\n",
    "            embeddings=[[1, 2, 34, 45]]\n",
    "        )\n"
   ]
  },
  {
   "cell_type": "code",
   "execution_count": 17,
   "id": "d4922eff",
   "metadata": {},
   "outputs": [],
   "source": [
    "import ast\n",
    "\n",
    "def add_func_v2():\n",
    "    for i in range(df.shape[0]):\n",
    "        chunk_id = str(i)  # Generate a unique string ID for each chunk\n",
    "        chunk_content = df['decode_content'].iloc[i]\n",
    "        \n",
    "        # Parse the embedding string into a list of floats\n",
    "        embeddings_str = df['embeddings'].iloc[i]\n",
    "        embeddings_list = ast.literal_eval(embeddings_str)\n",
    "        \n",
    "        collection.add(\n",
    "            ids=[chunk_id],  # Pass the chunk ID as a list of strings\n",
    "            documents=[chunk_content],  # Pass the chunk content as a list\n",
    "            embeddings=[embeddings_list]  # Pass the embeddings as a list of lists\n",
    "        )\n"
   ]
  },
  {
   "cell_type": "code",
   "execution_count": 13,
   "id": "7a81b1c5",
   "metadata": {},
   "outputs": [
    {
     "name": "stdout",
     "output_type": "stream",
     "text": [
      "Wall time: 4min 53s\n"
     ]
    }
   ],
   "source": [
    "%time add_func_v1()"
   ]
  },
  {
   "cell_type": "code",
   "execution_count": 18,
   "id": "e0aca4b2",
   "metadata": {},
   "outputs": [
    {
     "name": "stdout",
     "output_type": "stream",
     "text": [
      "Wall time: 16min 39s\n"
     ]
    }
   ],
   "source": [
    "%time add_func_v2()"
   ]
  },
  {
   "cell_type": "code",
   "execution_count": 26,
   "id": "2e619dc3",
   "metadata": {},
   "outputs": [
    {
     "name": "stdout",
     "output_type": "stream",
     "text": [
      "Collecting streamlit\n",
      "  Using cached streamlit-1.33.0-py2.py3-none-any.whl.metadata (8.5 kB)\n",
      "Collecting altair\n",
      "  Using cached altair-5.3.0-py3-none-any.whl.metadata (9.2 kB)\n",
      "Requirement already satisfied: pandas in c:\\programdata\\anaconda3\\lib\\site-packages (1.2.4)\n",
      "Collecting pyarrow\n",
      "  Using cached pyarrow-16.0.0-cp38-cp38-win_amd64.whl.metadata (3.1 kB)\n",
      "Collecting gitpython\n",
      "  Using cached GitPython-3.1.43-py3-none-any.whl.metadata (13 kB)\n",
      "Collecting pydeck\n",
      "  Downloading pydeck-0.8.0-py2.py3-none-any.whl.metadata (3.9 kB)\n",
      "Requirement already satisfied: watchdog in c:\\programdata\\anaconda3\\lib\\site-packages (1.0.2)\n",
      "Collecting blinker<2,>=1.0.0 (from streamlit)\n",
      "  Using cached blinker-1.7.0-py3-none-any.whl.metadata (1.9 kB)\n",
      "Requirement already satisfied: cachetools<6,>=4.0 in c:\\users\\justin\\appdata\\roaming\\python\\python38\\site-packages (from streamlit) (5.3.3)\n",
      "Requirement already satisfied: click<9,>=7.0 in c:\\users\\justin\\appdata\\roaming\\python\\python38\\site-packages (from streamlit) (8.1.7)\n",
      "Requirement already satisfied: numpy<2,>=1.19.3 in c:\\users\\justin\\appdata\\roaming\\python\\python38\\site-packages (from streamlit) (1.22.4)\n",
      "Requirement already satisfied: packaging<25,>=16.8 in c:\\programdata\\anaconda3\\lib\\site-packages (from streamlit) (20.9)\n",
      "Collecting pandas\n",
      "  Using cached pandas-2.0.3-cp38-cp38-win_amd64.whl.metadata (18 kB)\n",
      "Requirement already satisfied: pillow<11,>=7.1.0 in c:\\programdata\\anaconda3\\lib\\site-packages (from streamlit) (8.2.0)\n",
      "Requirement already satisfied: protobuf<5,>=3.20 in c:\\users\\justin\\appdata\\roaming\\python\\python38\\site-packages (from streamlit) (4.25.3)\n",
      "Requirement already satisfied: requests<3,>=2.27 in c:\\users\\justin\\appdata\\roaming\\python\\python38\\site-packages (from streamlit) (2.31.0)\n"
     ]
    },
    {
     "name": "stderr",
     "output_type": "stream",
     "text": [
      "WARNING: Ignoring invalid distribution - (c:\\programdata\\anaconda3\\lib\\site-packages)\n",
      "WARNING: Ignoring invalid distribution -gex (c:\\programdata\\anaconda3\\lib\\site-packages)\n",
      "WARNING: Ignoring invalid distribution -rkupsafe (c:\\programdata\\anaconda3\\lib\\site-packages)\n",
      "WARNING: Ignoring invalid distribution -arkupsafe (c:\\programdata\\anaconda3\\lib\\site-packages)\n",
      "WARNING: Ignoring invalid distribution -atchdog (c:\\programdata\\anaconda3\\lib\\site-packages)\n",
      "WARNING: Ignoring invalid distribution -egex (c:\\programdata\\anaconda3\\lib\\site-packages)\n",
      "WARNING: Ignoring invalid distribution -mportlib-metadata (c:\\programdata\\anaconda3\\lib\\site-packages)\n",
      "WARNING: Ignoring invalid distribution -rllib3 (c:\\programdata\\anaconda3\\lib\\site-packages)\n",
      "WARNING: Ignoring invalid distribution -gex (c:\\programdata\\anaconda3\\lib\\site-packages)\n",
      "WARNING: Ignoring invalid distribution -rkupsafe (c:\\programdata\\anaconda3\\lib\\site-packages)\n",
      "WARNING: Ignoring invalid distribution -tchdog (c:\\programdata\\anaconda3\\lib\\site-packages)\n",
      "WARNING: Ignoring invalid distribution - (c:\\programdata\\anaconda3\\lib\\site-packages)\n",
      "WARNING: Ignoring invalid distribution -gex (c:\\programdata\\anaconda3\\lib\\site-packages)\n",
      "WARNING: Ignoring invalid distribution -rkupsafe (c:\\programdata\\anaconda3\\lib\\site-packages)\n",
      "WARNING: Ignoring invalid distribution -arkupsafe (c:\\programdata\\anaconda3\\lib\\site-packages)\n",
      "WARNING: Ignoring invalid distribution -atchdog (c:\\programdata\\anaconda3\\lib\\site-packages)\n",
      "WARNING: Ignoring invalid distribution -egex (c:\\programdata\\anaconda3\\lib\\site-packages)\n",
      "WARNING: Ignoring invalid distribution -mportlib-metadata (c:\\programdata\\anaconda3\\lib\\site-packages)\n",
      "WARNING: Ignoring invalid distribution -rllib3 (c:\\programdata\\anaconda3\\lib\\site-packages)\n",
      "WARNING: Ignoring invalid distribution -gex (c:\\programdata\\anaconda3\\lib\\site-packages)\n",
      "WARNING: Ignoring invalid distribution -rkupsafe (c:\\programdata\\anaconda3\\lib\\site-packages)\n",
      "WARNING: Ignoring invalid distribution -tchdog (c:\\programdata\\anaconda3\\lib\\site-packages)\n",
      "DEPRECATION: pyodbc 4.0.0-unsupported has a non-standard version number. pip 24.1 will enforce this behaviour change. A possible replacement is to upgrade to a newer version of pyodbc or contact the author to suggest that they release a version with a conforming version number. Discussion can be found at https://github.com/pypa/pip/issues/12063\n",
      "ERROR: pip's dependency resolver does not currently take into account all the packages that are installed. This behaviour is the source of the following dependency conflicts.\n",
      "spyder 4.2.5 requires pyqt5<5.13, which is not installed.\n",
      "spyder 4.2.5 requires pyqtwebengine<5.13, which is not installed.\n",
      "spyder 4.2.5 requires watchdog<2.0.0,>=0.10.3, but you have watchdog 4.0.0 which is incompatible.\n"
     ]
    },
    {
     "name": "stdout",
     "output_type": "stream",
     "text": [
      "Requirement already satisfied: rich<14,>=10.14.0 in c:\\users\\justin\\appdata\\roaming\\python\\python38\\site-packages (from streamlit) (13.7.1)\n",
      "Requirement already satisfied: tenacity<9,>=8.1.0 in c:\\users\\justin\\appdata\\roaming\\python\\python38\\site-packages (from streamlit) (8.2.3)\n",
      "Requirement already satisfied: toml<2,>=0.10.1 in c:\\programdata\\anaconda3\\lib\\site-packages (from streamlit) (0.10.2)\n",
      "Requirement already satisfied: typing-extensions<5,>=4.3.0 in c:\\users\\justin\\appdata\\roaming\\python\\python38\\site-packages (from streamlit) (4.11.0)\n",
      "Collecting pydeck\n",
      "  Using cached pydeck-0.8.1b0-py2.py3-none-any.whl.metadata (3.9 kB)\n",
      "Requirement already satisfied: tornado<7,>=6.0.3 in c:\\programdata\\anaconda3\\lib\\site-packages (from streamlit) (6.1)\n",
      "Collecting watchdog\n",
      "  Using cached watchdog-4.0.0-py3-none-win_amd64.whl.metadata (37 kB)\n",
      "Requirement already satisfied: jinja2 in c:\\programdata\\anaconda3\\lib\\site-packages (from altair) (2.11.3)\n",
      "Requirement already satisfied: jsonschema>=3.0 in c:\\programdata\\anaconda3\\lib\\site-packages (from altair) (3.2.0)\n",
      "Requirement already satisfied: toolz in c:\\programdata\\anaconda3\\lib\\site-packages (from altair) (0.11.1)\n",
      "Collecting python-dateutil>=2.8.2 (from pandas)\n",
      "  Using cached python_dateutil-2.9.0.post0-py2.py3-none-any.whl.metadata (8.4 kB)\n",
      "Requirement already satisfied: pytz>=2020.1 in c:\\programdata\\anaconda3\\lib\\site-packages (from pandas) (2021.1)\n",
      "Collecting tzdata>=2022.1 (from pandas)\n",
      "  Using cached tzdata-2024.1-py2.py3-none-any.whl.metadata (1.4 kB)\n",
      "Collecting gitdb<5,>=4.0.1 (from gitpython)\n",
      "  Using cached gitdb-4.0.11-py3-none-any.whl.metadata (1.2 kB)\n",
      "Requirement already satisfied: colorama in c:\\programdata\\anaconda3\\lib\\site-packages (from click<9,>=7.0->streamlit) (0.4.4)\n",
      "Requirement already satisfied: smmap<6,>=3.0.1 in c:\\programdata\\anaconda3\\lib\\site-packages (from gitdb<5,>=4.0.1->gitpython) (5.0.1)\n",
      "Requirement already satisfied: MarkupSafe>=0.23 in c:\\programdata\\anaconda3\\lib\\site-packages (from jinja2->altair) (1.1.1)\n",
      "Requirement already satisfied: attrs>=17.4.0 in c:\\programdata\\anaconda3\\lib\\site-packages (from jsonschema>=3.0->altair) (20.3.0)\n",
      "Requirement already satisfied: pyrsistent>=0.14.0 in c:\\programdata\\anaconda3\\lib\\site-packages (from jsonschema>=3.0->altair) (0.17.3)\n",
      "Requirement already satisfied: setuptools in c:\\users\\justin\\appdata\\roaming\\python\\python38\\site-packages (from jsonschema>=3.0->altair) (69.2.0)\n",
      "Requirement already satisfied: six>=1.11.0 in c:\\programdata\\anaconda3\\lib\\site-packages (from jsonschema>=3.0->altair) (1.15.0)\n",
      "Requirement already satisfied: pyparsing>=2.0.2 in c:\\programdata\\anaconda3\\lib\\site-packages (from packaging<25,>=16.8->streamlit) (2.4.7)\n",
      "Requirement already satisfied: charset-normalizer<4,>=2 in c:\\users\\justin\\appdata\\roaming\\python\\python38\\site-packages (from requests<3,>=2.27->streamlit) (3.3.2)\n",
      "Requirement already satisfied: idna<4,>=2.5 in c:\\programdata\\anaconda3\\lib\\site-packages (from requests<3,>=2.27->streamlit) (2.10)\n",
      "Requirement already satisfied: urllib3<3,>=1.21.1 in c:\\programdata\\anaconda3\\lib\\site-packages (from requests<3,>=2.27->streamlit) (1.26.4)\n",
      "Requirement already satisfied: certifi>=2017.4.17 in c:\\programdata\\anaconda3\\lib\\site-packages (from requests<3,>=2.27->streamlit) (2020.12.5)\n",
      "Requirement already satisfied: markdown-it-py>=2.2.0 in c:\\users\\justin\\appdata\\roaming\\python\\python38\\site-packages (from rich<14,>=10.14.0->streamlit) (3.0.0)\n",
      "Requirement already satisfied: pygments<3.0.0,>=2.13.0 in c:\\users\\justin\\appdata\\roaming\\python\\python38\\site-packages (from rich<14,>=10.14.0->streamlit) (2.17.2)\n",
      "Requirement already satisfied: mdurl~=0.1 in c:\\users\\justin\\appdata\\roaming\\python\\python38\\site-packages (from markdown-it-py>=2.2.0->rich<14,>=10.14.0->streamlit) (0.1.2)\n",
      "Using cached streamlit-1.33.0-py2.py3-none-any.whl (8.1 MB)\n",
      "Using cached altair-5.3.0-py3-none-any.whl (857 kB)\n",
      "Using cached pandas-2.0.3-cp38-cp38-win_amd64.whl (10.8 MB)\n",
      "Using cached pyarrow-16.0.0-cp38-cp38-win_amd64.whl (25.9 MB)\n",
      "Using cached GitPython-3.1.43-py3-none-any.whl (207 kB)\n",
      "Using cached pydeck-0.8.1b0-py2.py3-none-any.whl (4.8 MB)\n",
      "Using cached watchdog-4.0.0-py3-none-win_amd64.whl (82 kB)\n",
      "Using cached blinker-1.7.0-py3-none-any.whl (13 kB)\n",
      "Using cached gitdb-4.0.11-py3-none-any.whl (62 kB)\n",
      "Using cached python_dateutil-2.9.0.post0-py2.py3-none-any.whl (229 kB)\n",
      "Using cached tzdata-2024.1-py2.py3-none-any.whl (345 kB)\n",
      "Installing collected packages: watchdog, tzdata, python-dateutil, pyarrow, gitdb, blinker, pydeck, pandas, gitpython, altair, streamlit\n",
      "Successfully installed altair-5.3.0 blinker-1.7.0 gitdb-4.0.11 gitpython-3.1.43 pandas-2.0.3 pyarrow-16.0.0 pydeck-0.8.1b0 python-dateutil-2.9.0.post0 streamlit-1.33.0 tzdata-2024.1 watchdog-4.0.0\n"
     ]
    }
   ],
   "source": [
    "!pip install --user streamlit altair pandas pyarrow gitpython pydeck watchdog\n"
   ]
  },
  {
   "cell_type": "code",
   "execution_count": 27,
   "id": "542b08bf",
   "metadata": {},
   "outputs": [],
   "source": [
    "import re\n",
    "import chromadb\n",
    "from sentence_transformers import  SentenceTransformer\n",
    "import streamlit as st"
   ]
  },
  {
   "cell_type": "code",
   "execution_count": 58,
   "id": "79d867c5",
   "metadata": {},
   "outputs": [
    {
     "name": "stdout",
     "output_type": "stream",
     "text": [
      "Requirement already satisfied: torch in c:\\programdata\\anaconda3\\lib\\site-packages (1.10.0+cu113)\n",
      "Requirement already satisfied: torchvision in c:\\programdata\\anaconda3\\lib\\site-packages (0.11.1+cu113)\n",
      "Requirement already satisfied: torchaudio in c:\\programdata\\anaconda3\\lib\\site-packages (0.10.0+cu113)\n",
      "Requirement already satisfied: typing-extensions in c:\\users\\justin\\appdata\\roaming\\python\\python38\\site-packages (from torch) (4.11.0)\n",
      "Requirement already satisfied: numpy in c:\\users\\justin\\appdata\\roaming\\python\\python38\\site-packages (from torchvision) (1.22.4)\n",
      "Requirement already satisfied: pillow!=8.3.0,>=5.3.0 in c:\\programdata\\anaconda3\\lib\\site-packages (from torchvision) (8.2.0)\n"
     ]
    },
    {
     "name": "stderr",
     "output_type": "stream",
     "text": [
      "WARNING: Ignoring invalid distribution - (c:\\programdata\\anaconda3\\lib\\site-packages)\n",
      "WARNING: Ignoring invalid distribution -gex (c:\\programdata\\anaconda3\\lib\\site-packages)\n",
      "WARNING: Ignoring invalid distribution -rkupsafe (c:\\programdata\\anaconda3\\lib\\site-packages)\n",
      "WARNING: Ignoring invalid distribution -arkupsafe (c:\\programdata\\anaconda3\\lib\\site-packages)\n",
      "WARNING: Ignoring invalid distribution -atchdog (c:\\programdata\\anaconda3\\lib\\site-packages)\n",
      "WARNING: Ignoring invalid distribution -egex (c:\\programdata\\anaconda3\\lib\\site-packages)\n",
      "WARNING: Ignoring invalid distribution -mportlib-metadata (c:\\programdata\\anaconda3\\lib\\site-packages)\n",
      "WARNING: Ignoring invalid distribution -rllib3 (c:\\programdata\\anaconda3\\lib\\site-packages)\n",
      "WARNING: Ignoring invalid distribution -gex (c:\\programdata\\anaconda3\\lib\\site-packages)\n",
      "WARNING: Ignoring invalid distribution -rkupsafe (c:\\programdata\\anaconda3\\lib\\site-packages)\n",
      "WARNING: Ignoring invalid distribution -tchdog (c:\\programdata\\anaconda3\\lib\\site-packages)\n",
      "WARNING: Ignoring invalid distribution - (c:\\programdata\\anaconda3\\lib\\site-packages)\n",
      "WARNING: Ignoring invalid distribution -gex (c:\\programdata\\anaconda3\\lib\\site-packages)\n",
      "WARNING: Ignoring invalid distribution -rkupsafe (c:\\programdata\\anaconda3\\lib\\site-packages)\n",
      "WARNING: Ignoring invalid distribution -arkupsafe (c:\\programdata\\anaconda3\\lib\\site-packages)\n",
      "WARNING: Ignoring invalid distribution -atchdog (c:\\programdata\\anaconda3\\lib\\site-packages)\n",
      "WARNING: Ignoring invalid distribution -egex (c:\\programdata\\anaconda3\\lib\\site-packages)\n",
      "WARNING: Ignoring invalid distribution -mportlib-metadata (c:\\programdata\\anaconda3\\lib\\site-packages)\n",
      "WARNING: Ignoring invalid distribution -rllib3 (c:\\programdata\\anaconda3\\lib\\site-packages)\n",
      "WARNING: Ignoring invalid distribution -gex (c:\\programdata\\anaconda3\\lib\\site-packages)\n",
      "WARNING: Ignoring invalid distribution -rkupsafe (c:\\programdata\\anaconda3\\lib\\site-packages)\n",
      "WARNING: Ignoring invalid distribution -tchdog (c:\\programdata\\anaconda3\\lib\\site-packages)\n",
      "DEPRECATION: pyodbc 4.0.0-unsupported has a non-standard version number. pip 24.1 will enforce this behaviour change. A possible replacement is to upgrade to a newer version of pyodbc or contact the author to suggest that they release a version with a conforming version number. Discussion can be found at https://github.com/pypa/pip/issues/12063\n"
     ]
    }
   ],
   "source": [
    "!pip install torch torchvision torchaudio\n"
   ]
  },
  {
   "cell_type": "code",
   "execution_count": 60,
   "id": "be42a509",
   "metadata": {},
   "outputs": [
    {
     "name": "stdout",
     "output_type": "stream",
     "text": [
      "Requirement already satisfied: torch==1.10.0+cu113 in c:\\programdata\\anaconda3\\lib\\site-packages (1.10.0+cu113)\n",
      "Requirement already satisfied: torchvision==0.11.1+cu113 in c:\\programdata\\anaconda3\\lib\\site-packages (0.11.1+cu113)\n",
      "Requirement already satisfied: typing-extensions in c:\\users\\justin\\appdata\\roaming\\python\\python38\\site-packages (from torch==1.10.0+cu113) (4.11.0)\n",
      "Requirement already satisfied: numpy in c:\\users\\justin\\appdata\\roaming\\python\\python38\\site-packages (from torchvision==0.11.1+cu113) (1.22.4)\n",
      "Requirement already satisfied: pillow!=8.3.0,>=5.3.0 in c:\\programdata\\anaconda3\\lib\\site-packages (from torchvision==0.11.1+cu113) (8.2.0)\n"
     ]
    },
    {
     "name": "stderr",
     "output_type": "stream",
     "text": [
      "WARNING: Ignoring invalid distribution - (c:\\programdata\\anaconda3\\lib\\site-packages)\n",
      "WARNING: Ignoring invalid distribution -gex (c:\\programdata\\anaconda3\\lib\\site-packages)\n",
      "WARNING: Ignoring invalid distribution -rkupsafe (c:\\programdata\\anaconda3\\lib\\site-packages)\n",
      "WARNING: Ignoring invalid distribution -arkupsafe (c:\\programdata\\anaconda3\\lib\\site-packages)\n",
      "WARNING: Ignoring invalid distribution -atchdog (c:\\programdata\\anaconda3\\lib\\site-packages)\n",
      "WARNING: Ignoring invalid distribution -egex (c:\\programdata\\anaconda3\\lib\\site-packages)\n",
      "WARNING: Ignoring invalid distribution -mportlib-metadata (c:\\programdata\\anaconda3\\lib\\site-packages)\n",
      "WARNING: Ignoring invalid distribution -rllib3 (c:\\programdata\\anaconda3\\lib\\site-packages)\n",
      "WARNING: Ignoring invalid distribution -gex (c:\\programdata\\anaconda3\\lib\\site-packages)\n",
      "WARNING: Ignoring invalid distribution -rkupsafe (c:\\programdata\\anaconda3\\lib\\site-packages)\n",
      "WARNING: Ignoring invalid distribution -tchdog (c:\\programdata\\anaconda3\\lib\\site-packages)\n",
      "WARNING: Ignoring invalid distribution - (c:\\programdata\\anaconda3\\lib\\site-packages)\n",
      "WARNING: Ignoring invalid distribution -gex (c:\\programdata\\anaconda3\\lib\\site-packages)\n",
      "WARNING: Ignoring invalid distribution -rkupsafe (c:\\programdata\\anaconda3\\lib\\site-packages)\n",
      "WARNING: Ignoring invalid distribution -arkupsafe (c:\\programdata\\anaconda3\\lib\\site-packages)\n",
      "WARNING: Ignoring invalid distribution -atchdog (c:\\programdata\\anaconda3\\lib\\site-packages)\n",
      "WARNING: Ignoring invalid distribution -egex (c:\\programdata\\anaconda3\\lib\\site-packages)\n",
      "WARNING: Ignoring invalid distribution -mportlib-metadata (c:\\programdata\\anaconda3\\lib\\site-packages)\n",
      "WARNING: Ignoring invalid distribution -rllib3 (c:\\programdata\\anaconda3\\lib\\site-packages)\n",
      "WARNING: Ignoring invalid distribution -gex (c:\\programdata\\anaconda3\\lib\\site-packages)\n",
      "WARNING: Ignoring invalid distribution -rkupsafe (c:\\programdata\\anaconda3\\lib\\site-packages)\n",
      "WARNING: Ignoring invalid distribution -tchdog (c:\\programdata\\anaconda3\\lib\\site-packages)\n",
      "DEPRECATION: pyodbc 4.0.0-unsupported has a non-standard version number. pip 24.1 will enforce this behaviour change. A possible replacement is to upgrade to a newer version of pyodbc or contact the author to suggest that they release a version with a conforming version number. Discussion can be found at https://github.com/pypa/pip/issues/12063\n"
     ]
    }
   ],
   "source": [
    "!pip install torch==1.10.0+cu113 torchvision==0.11.1+cu113\n"
   ]
  },
  {
   "cell_type": "code",
   "execution_count": 61,
   "id": "02fcd0d3",
   "metadata": {},
   "outputs": [
    {
     "name": "stdout",
     "output_type": "stream",
     "text": [
      "Requirement already satisfied: sentence-transformers in c:\\programdata\\anaconda3\\lib\\site-packages (2.7.0)"
     ]
    },
    {
     "name": "stderr",
     "output_type": "stream",
     "text": [
      "WARNING: Ignoring invalid distribution - (c:\\programdata\\anaconda3\\lib\\site-packages)\n",
      "WARNING: Ignoring invalid distribution -gex (c:\\programdata\\anaconda3\\lib\\site-packages)\n",
      "WARNING: Ignoring invalid distribution -rkupsafe (c:\\programdata\\anaconda3\\lib\\site-packages)\n",
      "WARNING: Ignoring invalid distribution -arkupsafe (c:\\programdata\\anaconda3\\lib\\site-packages)\n",
      "WARNING: Ignoring invalid distribution -atchdog (c:\\programdata\\anaconda3\\lib\\site-packages)\n",
      "WARNING: Ignoring invalid distribution -egex (c:\\programdata\\anaconda3\\lib\\site-packages)\n",
      "WARNING: Ignoring invalid distribution -mportlib-metadata (c:\\programdata\\anaconda3\\lib\\site-packages)\n",
      "WARNING: Ignoring invalid distribution -rllib3 (c:\\programdata\\anaconda3\\lib\\site-packages)\n",
      "WARNING: Ignoring invalid distribution -gex (c:\\programdata\\anaconda3\\lib\\site-packages)\n",
      "WARNING: Ignoring invalid distribution -rkupsafe (c:\\programdata\\anaconda3\\lib\\site-packages)\n",
      "WARNING: Ignoring invalid distribution -tchdog (c:\\programdata\\anaconda3\\lib\\site-packages)\n",
      "WARNING: Ignoring invalid distribution - (c:\\programdata\\anaconda3\\lib\\site-packages)\n",
      "WARNING: Ignoring invalid distribution -gex (c:\\programdata\\anaconda3\\lib\\site-packages)\n",
      "WARNING: Ignoring invalid distribution -rkupsafe (c:\\programdata\\anaconda3\\lib\\site-packages)\n",
      "WARNING: Ignoring invalid distribution -arkupsafe (c:\\programdata\\anaconda3\\lib\\site-packages)\n",
      "WARNING: Ignoring invalid distribution -atchdog (c:\\programdata\\anaconda3\\lib\\site-packages)\n",
      "WARNING: Ignoring invalid distribution -egex (c:\\programdata\\anaconda3\\lib\\site-packages)\n",
      "WARNING: Ignoring invalid distribution -mportlib-metadata (c:\\programdata\\anaconda3\\lib\\site-packages)\n",
      "WARNING: Ignoring invalid distribution -rllib3 (c:\\programdata\\anaconda3\\lib\\site-packages)\n",
      "WARNING: Ignoring invalid distribution -gex (c:\\programdata\\anaconda3\\lib\\site-packages)\n",
      "WARNING: Ignoring invalid distribution -rkupsafe (c:\\programdata\\anaconda3\\lib\\site-packages)\n",
      "WARNING: Ignoring invalid distribution -tchdog (c:\\programdata\\anaconda3\\lib\\site-packages)\n",
      "DEPRECATION: pyodbc 4.0.0-unsupported has a non-standard version number. pip 24.1 will enforce this behaviour change. A possible replacement is to upgrade to a newer version of pyodbc or contact the author to suggest that they release a version with a conforming version number. Discussion can be found at https://github.com/pypa/pip/issues/12063\n",
      "ERROR: pip's dependency resolver does not currently take into account all the packages that are installed. This behaviour is the source of the following dependency conflicts.\n",
      "torchaudio 0.10.0+cu113 requires torch==1.10.0, but you have torch 2.2.2 which is incompatible.\n",
      "torchvision 0.11.1+cu113 requires torch==1.10.0, but you have torch 2.2.2 which is incompatible.\n"
     ]
    },
    {
     "name": "stdout",
     "output_type": "stream",
     "text": [
      "\n",
      "Requirement already satisfied: transformers<5.0.0,>=4.34.0 in c:\\users\\justin\\appdata\\roaming\\python\\python38\\site-packages (from sentence-transformers) (4.39.3)\n",
      "Requirement already satisfied: tqdm in c:\\users\\justin\\appdata\\roaming\\python\\python38\\site-packages (from sentence-transformers) (4.66.2)\n",
      "Collecting torch>=1.11.0 (from sentence-transformers)\n",
      "  Downloading torch-2.2.2-cp38-cp38-win_amd64.whl.metadata (26 kB)\n",
      "Requirement already satisfied: numpy in c:\\users\\justin\\appdata\\roaming\\python\\python38\\site-packages (from sentence-transformers) (1.22.4)\n",
      "Requirement already satisfied: scikit-learn in c:\\programdata\\anaconda3\\lib\\site-packages (from sentence-transformers) (0.24.1)\n",
      "Requirement already satisfied: scipy in c:\\programdata\\anaconda3\\lib\\site-packages (from sentence-transformers) (1.6.2)\n",
      "Requirement already satisfied: huggingface-hub>=0.15.1 in c:\\users\\justin\\appdata\\roaming\\python\\python38\\site-packages (from sentence-transformers) (0.22.2)\n",
      "Requirement already satisfied: Pillow in c:\\programdata\\anaconda3\\lib\\site-packages (from sentence-transformers) (8.2.0)\n",
      "Requirement already satisfied: filelock in c:\\programdata\\anaconda3\\lib\\site-packages (from huggingface-hub>=0.15.1->sentence-transformers) (3.0.12)\n",
      "Requirement already satisfied: fsspec>=2023.5.0 in c:\\users\\justin\\appdata\\roaming\\python\\python38\\site-packages (from huggingface-hub>=0.15.1->sentence-transformers) (2024.3.1)\n",
      "Requirement already satisfied: packaging>=20.9 in c:\\programdata\\anaconda3\\lib\\site-packages (from huggingface-hub>=0.15.1->sentence-transformers) (20.9)\n",
      "Requirement already satisfied: pyyaml>=5.1 in c:\\users\\justin\\appdata\\roaming\\python\\python38\\site-packages (from huggingface-hub>=0.15.1->sentence-transformers) (6.0.1)\n",
      "Requirement already satisfied: requests in c:\\users\\justin\\appdata\\roaming\\python\\python38\\site-packages (from huggingface-hub>=0.15.1->sentence-transformers) (2.31.0)\n",
      "Requirement already satisfied: typing-extensions>=3.7.4.3 in c:\\users\\justin\\appdata\\roaming\\python\\python38\\site-packages (from huggingface-hub>=0.15.1->sentence-transformers) (4.11.0)\n",
      "Requirement already satisfied: sympy in c:\\programdata\\anaconda3\\lib\\site-packages (from torch>=1.11.0->sentence-transformers) (1.8)\n",
      "Requirement already satisfied: networkx in c:\\programdata\\anaconda3\\lib\\site-packages (from torch>=1.11.0->sentence-transformers) (2.5)\n",
      "Requirement already satisfied: jinja2 in c:\\programdata\\anaconda3\\lib\\site-packages (from torch>=1.11.0->sentence-transformers) (2.11.3)\n",
      "Requirement already satisfied: colorama in c:\\programdata\\anaconda3\\lib\\site-packages (from tqdm->sentence-transformers) (0.4.4)\n",
      "Requirement already satisfied: regex!=2019.12.17 in c:\\users\\justin\\appdata\\roaming\\python\\python38\\site-packages (from transformers<5.0.0,>=4.34.0->sentence-transformers) (2023.12.25)\n",
      "Requirement already satisfied: tokenizers<0.19,>=0.14 in c:\\users\\justin\\appdata\\roaming\\python\\python38\\site-packages (from transformers<5.0.0,>=4.34.0->sentence-transformers) (0.15.2)\n",
      "Requirement already satisfied: safetensors>=0.4.1 in c:\\users\\justin\\appdata\\roaming\\python\\python38\\site-packages (from transformers<5.0.0,>=4.34.0->sentence-transformers) (0.4.2)\n",
      "Requirement already satisfied: joblib>=0.11 in c:\\programdata\\anaconda3\\lib\\site-packages (from scikit-learn->sentence-transformers) (1.0.1)\n",
      "Requirement already satisfied: threadpoolctl>=2.0.0 in c:\\programdata\\anaconda3\\lib\\site-packages (from scikit-learn->sentence-transformers) (2.1.0)\n",
      "Requirement already satisfied: pyparsing>=2.0.2 in c:\\programdata\\anaconda3\\lib\\site-packages (from packaging>=20.9->huggingface-hub>=0.15.1->sentence-transformers) (2.4.7)\n",
      "Requirement already satisfied: MarkupSafe>=0.23 in c:\\programdata\\anaconda3\\lib\\site-packages (from jinja2->torch>=1.11.0->sentence-transformers) (1.1.1)\n",
      "Requirement already satisfied: decorator>=4.3.0 in c:\\programdata\\anaconda3\\lib\\site-packages (from networkx->torch>=1.11.0->sentence-transformers) (5.0.6)\n",
      "Requirement already satisfied: charset-normalizer<4,>=2 in c:\\users\\justin\\appdata\\roaming\\python\\python38\\site-packages (from requests->huggingface-hub>=0.15.1->sentence-transformers) (3.3.2)\n",
      "Requirement already satisfied: idna<4,>=2.5 in c:\\programdata\\anaconda3\\lib\\site-packages (from requests->huggingface-hub>=0.15.1->sentence-transformers) (2.10)\n",
      "Requirement already satisfied: urllib3<3,>=1.21.1 in c:\\programdata\\anaconda3\\lib\\site-packages (from requests->huggingface-hub>=0.15.1->sentence-transformers) (1.26.4)\n",
      "Requirement already satisfied: certifi>=2017.4.17 in c:\\programdata\\anaconda3\\lib\\site-packages (from requests->huggingface-hub>=0.15.1->sentence-transformers) (2020.12.5)\n",
      "Requirement already satisfied: mpmath>=0.19 in c:\\programdata\\anaconda3\\lib\\site-packages (from sympy->torch>=1.11.0->sentence-transformers) (1.2.1)\n",
      "Downloading torch-2.2.2-cp38-cp38-win_amd64.whl (198.6 MB)\n",
      "   --------------------------------------- 198.6/198.6 MB 13.9 MB/s eta 0:00:00\n",
      "Installing collected packages: torch\n",
      "  Attempting uninstall: torch\n",
      "    Found existing installation: torch 1.10.0+cu113\n",
      "    Uninstalling torch-1.10.0+cu113:\n",
      "      Successfully uninstalled torch-1.10.0+cu113\n",
      "Successfully installed torch-2.2.2\n"
     ]
    }
   ],
   "source": [
    "!pip install sentence-transformers\n"
   ]
  },
  {
   "cell_type": "code",
   "execution_count": 62,
   "id": "2af0e3f2",
   "metadata": {},
   "outputs": [],
   "source": [
    "from sentence_transformers import SentenceTransformer\n",
    "\n",
    "model_name = \"paraphrase-MiniLM-L3-V2\"\n",
    "model = SentenceTransformer(model_name)\n"
   ]
  },
  {
   "cell_type": "code",
   "execution_count": 64,
   "id": "27ad4952",
   "metadata": {},
   "outputs": [
    {
     "name": "stdout",
     "output_type": "stream",
     "text": [
      "^C\n"
     ]
    }
   ],
   "source": [
    "!pip uninstall torch\n"
   ]
  },
  {
   "cell_type": "code",
   "execution_count": null,
   "id": "fe34cb34",
   "metadata": {},
   "outputs": [],
   "source": [
    "!pip install torch==1.10.0+cu113\n"
   ]
  },
  {
   "cell_type": "code",
   "execution_count": 66,
   "id": "85be05c3",
   "metadata": {},
   "outputs": [],
   "source": [
    "client = chromadb.PersistentClient(path=r\"C:\\Users\\justin\\Downloads\\search engine project\")\n",
    "collection = client.get_collection(name=\"search_engine\")\n",
    "collection_name = client.get_collection(name=\"search_engine_FileName\")\n",
    "\n",
    "model_name = \"paraphrase-MiniLM-L3-V2\"\n",
    "model = SentenceTransformer(model_name, device = \"cpu\")"
   ]
  },
  {
   "cell_type": "code",
   "execution_count": 53,
   "id": "77cb0f03",
   "metadata": {},
   "outputs": [],
   "source": [
    "def clean_data(data): # data is the query text\n",
    "\n",
    "    # removing timestamps\n",
    "    data = re.sub(\"\\d{2}:\\d{2}:\\d{2},\\d{3}\\s-->\\s\\d{2}:\\d{2}:\\d{2},\\d{3}\",\" \",  data)\n",
    "\n",
    "    # removing index no. of dialogues\n",
    "    data = re.sub(r'\\n?\\d+\\r', \"\", data)\n",
    "\n",
    "    # removing escape sequences like \\n \\r\n",
    "    data = re.sub('\\r|\\n', \"\", data)\n",
    "\n",
    "    # removing <i> and </i>\n",
    "    data = re.sub('<i>|</i>', \"\", data)\n",
    "    # removing links\n",
    "    data = re.sub(\"(?:www\\.)osdb\\.link\\/[\\w\\d]+|www\\.OpenSubtitles\\.org|osdb\\.link\\/ext|api\\.OpenSubtitles\\.org|OpenSubtitles\\.com\", \" \",data)\n",
    "\n",
    "    # Converting to lower case\n",
    "    data = data.lower()\n",
    "\n",
    "    # return\n",
    "    return data"
   ]
  },
  {
   "cell_type": "code",
   "execution_count": 54,
   "id": "d51f97d4",
   "metadata": {},
   "outputs": [],
   "source": [
    "def extract_id(id_list):\n",
    "    new_id_list=[]\n",
    "    for item in id_list:\n",
    "        match = re.match(r'^(\\d+)', item)\n",
    "        if match:\n",
    "            extracted_number = match.group(1)\n",
    "            new_id_list.append(extracted_number)\n",
    "    return new_id_list"
   ]
  },
  {
   "cell_type": "code",
   "execution_count": 67,
   "id": "df2e34c6",
   "metadata": {},
   "outputs": [],
   "source": [
    "st.header(\"Movie Subtitle Search Engine\")\n",
    "search_query=st.text_input(\"Enter a dialogue to search....\")\n",
    "if st.button(\"Search\")==True:\n",
    "\n",
    "    st.subheader(\"Relevant Subtitle Files\")\n",
    "    search_query=clean_data(search_query)\n",
    "    query_embed = model.encode(search_query).tolist()\n",
    "\n",
    "    search_results=collection.query(query_embeddings=query_embed, n_results=10)\n",
    "    id_list = search_results['ids'][0]\n",
    "\n",
    "    id_list = extract_id(id_list)\n",
    "    print(id_list)\n",
    "    for id in id_list:\n",
    "        file_name = collection_name.get(ids=f\"{id}\")[\"documents\"][0]\n",
    "        st.markdown(f\"[{file_name}](https://www.opensubtitles.org/en/subtitles/{id})\")"
   ]
  },
  {
   "cell_type": "code",
   "execution_count": null,
   "id": "0e64ef73",
   "metadata": {},
   "outputs": [],
   "source": []
  }
 ],
 "metadata": {
  "kernelspec": {
   "display_name": "Python 3",
   "language": "python",
   "name": "python3"
  },
  "language_info": {
   "codemirror_mode": {
    "name": "ipython",
    "version": 3
   },
   "file_extension": ".py",
   "mimetype": "text/x-python",
   "name": "python",
   "nbconvert_exporter": "python",
   "pygments_lexer": "ipython3",
   "version": "3.8.8"
  }
 },
 "nbformat": 4,
 "nbformat_minor": 5
}
