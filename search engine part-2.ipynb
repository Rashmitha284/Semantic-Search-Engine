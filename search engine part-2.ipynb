{
 "cells": [
  {
   "cell_type": "code",
   "execution_count": 1,
   "id": "a730519e",
   "metadata": {},
   "outputs": [],
   "source": [
    "import pandas as pd"
   ]
  },
  {
   "cell_type": "code",
   "execution_count": 2,
   "id": "707e3c07",
   "metadata": {},
   "outputs": [],
   "source": [
    "df=pd.read_csv(r\"C:\\Users\\rashmitha\\Downloads\\df_50.csv\")"
   ]
  },
  {
   "cell_type": "code",
   "execution_count": 3,
   "id": "958f6ace",
   "metadata": {},
   "outputs": [
    {
     "data": {
      "text/html": [
       "<div>\n",
       "<style scoped>\n",
       "    .dataframe tbody tr th:only-of-type {\n",
       "        vertical-align: middle;\n",
       "    }\n",
       "\n",
       "    .dataframe tbody tr th {\n",
       "        vertical-align: top;\n",
       "    }\n",
       "\n",
       "    .dataframe thead th {\n",
       "        text-align: right;\n",
       "    }\n",
       "</style>\n",
       "<table border=\"1\" class=\"dataframe\">\n",
       "  <thead>\n",
       "    <tr style=\"text-align: right;\">\n",
       "      <th></th>\n",
       "      <th>num</th>\n",
       "      <th>name</th>\n",
       "      <th>content</th>\n",
       "      <th>decode_content</th>\n",
       "    </tr>\n",
       "  </thead>\n",
       "  <tbody>\n",
       "    <tr>\n",
       "      <th>0</th>\n",
       "      <td>9251120</td>\n",
       "      <td>maybe this time (2014)</td>\n",
       "      <td>b'PK\\x03\\x04\\x14\\x00\\x00\\x00\\x08\\x00\\x89\\x9a\\x...</td>\n",
       "      <td>watch video online opensubtitles free browser ...</td>\n",
       "    </tr>\n",
       "    <tr>\n",
       "      <th>1</th>\n",
       "      <td>9211589</td>\n",
       "      <td>down the shore s01 e10 and justice for all (1992)</td>\n",
       "      <td>b'PK\\x03\\x04\\x14\\x00\\x00\\x00\\x08\\x007\\x8f\\x99V...</td>\n",
       "      <td>oh know getting late dont wan na go home im hu...</td>\n",
       "    </tr>\n",
       "    <tr>\n",
       "      <th>2</th>\n",
       "      <td>9380845</td>\n",
       "      <td>uncontrollably fond s01 e07 heartache (2016)</td>\n",
       "      <td>b'PK\\x03\\x04\\x14\\x00\\x00\\x00\\x08\\x00\\x8f\\x19\\x...</td>\n",
       "      <td>timing subtitle uncontrollable lovebird team v...</td>\n",
       "    </tr>\n",
       "    <tr>\n",
       "      <th>3</th>\n",
       "      <td>9301436</td>\n",
       "      <td>screen two s13 e04 the precious blood (1996)</td>\n",
       "      <td>b'PK\\x03\\x04\\x14\\x00\\x00\\x00\\x08\\x00[\\xaa\\x99V...</td>\n",
       "      <td>ethereal music apiopensubtitlesorg deprecated ...</td>\n",
       "    </tr>\n",
       "    <tr>\n",
       "      <th>4</th>\n",
       "      <td>9408707</td>\n",
       "      <td>battlebots (2015)</td>\n",
       "      <td>b'PK\\x03\\x04\\x14\\x00\\x00\\x00\\x08\\x00\\xf4&lt;\\x9aV...</td>\n",
       "      <td>chris oh minibots yelling oh leave little bot ...</td>\n",
       "    </tr>\n",
       "  </tbody>\n",
       "</table>\n",
       "</div>"
      ],
      "text/plain": [
       "       num                                               name  \\\n",
       "0  9251120                             maybe this time (2014)   \n",
       "1  9211589  down the shore s01 e10 and justice for all (1992)   \n",
       "2  9380845       uncontrollably fond s01 e07 heartache (2016)   \n",
       "3  9301436       screen two s13 e04 the precious blood (1996)   \n",
       "4  9408707                                  battlebots (2015)   \n",
       "\n",
       "                                             content  \\\n",
       "0  b'PK\\x03\\x04\\x14\\x00\\x00\\x00\\x08\\x00\\x89\\x9a\\x...   \n",
       "1  b'PK\\x03\\x04\\x14\\x00\\x00\\x00\\x08\\x007\\x8f\\x99V...   \n",
       "2  b'PK\\x03\\x04\\x14\\x00\\x00\\x00\\x08\\x00\\x8f\\x19\\x...   \n",
       "3  b'PK\\x03\\x04\\x14\\x00\\x00\\x00\\x08\\x00[\\xaa\\x99V...   \n",
       "4  b'PK\\x03\\x04\\x14\\x00\\x00\\x00\\x08\\x00\\xf4<\\x9aV...   \n",
       "\n",
       "                                      decode_content  \n",
       "0  watch video online opensubtitles free browser ...  \n",
       "1  oh know getting late dont wan na go home im hu...  \n",
       "2  timing subtitle uncontrollable lovebird team v...  \n",
       "3  ethereal music apiopensubtitlesorg deprecated ...  \n",
       "4  chris oh minibots yelling oh leave little bot ...  "
      ]
     },
     "execution_count": 3,
     "metadata": {},
     "output_type": "execute_result"
    }
   ],
   "source": [
    "df.head()"
   ]
  },
  {
   "cell_type": "code",
   "execution_count": 4,
   "id": "52b867a5",
   "metadata": {},
   "outputs": [
    {
     "name": "stdout",
     "output_type": "stream",
     "text": [
      "Requirement already satisfied: sentence-transformers in c:\\users\\rashmitha\\anaconda3\\lib\\site-packages (2.5.1)\n",
      "Collecting sentence-transformers\n",
      "  Downloading sentence_transformers-2.6.1-py3-none-any.whl (163 kB)\n",
      "     ------------------------------------ 163.3/163.3 kB 890.0 kB/s eta 0:00:00\n",
      "Requirement already satisfied: transformers<5.0.0,>=4.32.0 in c:\\users\\rashmitha\\anaconda3\\lib\\site-packages (from sentence-transformers) (4.38.2)\n",
      "Requirement already satisfied: scikit-learn in c:\\users\\rashmitha\\anaconda3\\lib\\site-packages (from sentence-transformers) (1.0.2)\n",
      "Requirement already satisfied: scipy in c:\\users\\rashmitha\\anaconda3\\lib\\site-packages (from sentence-transformers) (1.9.1)\n",
      "Requirement already satisfied: huggingface-hub>=0.15.1 in c:\\users\\rashmitha\\anaconda3\\lib\\site-packages (from sentence-transformers) (0.21.4)\n",
      "Requirement already satisfied: torch>=1.11.0 in c:\\users\\rashmitha\\anaconda3\\lib\\site-packages (from sentence-transformers) (2.2.1)\n",
      "Requirement already satisfied: numpy in c:\\users\\rashmitha\\anaconda3\\lib\\site-packages (from sentence-transformers) (1.21.5)\n",
      "Requirement already satisfied: tqdm in c:\\users\\rashmitha\\anaconda3\\lib\\site-packages (from sentence-transformers) (4.64.1)\n",
      "Requirement already satisfied: Pillow in c:\\users\\rashmitha\\anaconda3\\lib\\site-packages (from sentence-transformers) (9.2.0)\n",
      "Requirement already satisfied: filelock in c:\\users\\rashmitha\\anaconda3\\lib\\site-packages (from huggingface-hub>=0.15.1->sentence-transformers) (3.6.0)\n",
      "Requirement already satisfied: packaging>=20.9 in c:\\users\\rashmitha\\anaconda3\\lib\\site-packages (from huggingface-hub>=0.15.1->sentence-transformers) (21.3)\n",
      "Requirement already satisfied: fsspec>=2023.5.0 in c:\\users\\rashmitha\\anaconda3\\lib\\site-packages (from huggingface-hub>=0.15.1->sentence-transformers) (2024.3.0)\n",
      "Requirement already satisfied: pyyaml>=5.1 in c:\\users\\rashmitha\\anaconda3\\lib\\site-packages (from huggingface-hub>=0.15.1->sentence-transformers) (6.0)\n",
      "Requirement already satisfied: requests in c:\\users\\rashmitha\\anaconda3\\lib\\site-packages (from huggingface-hub>=0.15.1->sentence-transformers) (2.28.1)\n",
      "Requirement already satisfied: typing-extensions>=3.7.4.3 in c:\\users\\rashmitha\\anaconda3\\lib\\site-packages (from huggingface-hub>=0.15.1->sentence-transformers) (4.10.0)\n",
      "Requirement already satisfied: networkx in c:\\users\\rashmitha\\anaconda3\\lib\\site-packages (from torch>=1.11.0->sentence-transformers) (2.8.4)\n",
      "Requirement already satisfied: jinja2 in c:\\users\\rashmitha\\anaconda3\\lib\\site-packages (from torch>=1.11.0->sentence-transformers) (3.1.3)\n",
      "Requirement already satisfied: sympy in c:\\users\\rashmitha\\anaconda3\\lib\\site-packages (from torch>=1.11.0->sentence-transformers) (1.10.1)\n",
      "Requirement already satisfied: colorama in c:\\users\\rashmitha\\anaconda3\\lib\\site-packages (from tqdm->sentence-transformers) (0.4.5)\n",
      "Requirement already satisfied: tokenizers<0.19,>=0.14 in c:\\users\\rashmitha\\anaconda3\\lib\\site-packages (from transformers<5.0.0,>=4.32.0->sentence-transformers) (0.15.2)\n",
      "Requirement already satisfied: safetensors>=0.4.1 in c:\\users\\rashmitha\\anaconda3\\lib\\site-packages (from transformers<5.0.0,>=4.32.0->sentence-transformers) (0.4.2)\n",
      "Requirement already satisfied: regex!=2019.12.17 in c:\\users\\rashmitha\\anaconda3\\lib\\site-packages (from transformers<5.0.0,>=4.32.0->sentence-transformers) (2022.7.9)\n",
      "Requirement already satisfied: threadpoolctl>=2.0.0 in c:\\users\\rashmitha\\anaconda3\\lib\\site-packages (from scikit-learn->sentence-transformers) (2.2.0)\n",
      "Requirement already satisfied: joblib>=0.11 in c:\\users\\rashmitha\\anaconda3\\lib\\site-packages (from scikit-learn->sentence-transformers) (1.1.0)\n",
      "Requirement already satisfied: pyparsing!=3.0.5,>=2.0.2 in c:\\users\\rashmitha\\anaconda3\\lib\\site-packages (from packaging>=20.9->huggingface-hub>=0.15.1->sentence-transformers) (3.0.9)\n",
      "Requirement already satisfied: MarkupSafe>=2.0 in c:\\users\\rashmitha\\anaconda3\\lib\\site-packages (from jinja2->torch>=1.11.0->sentence-transformers) (2.0.1)\n",
      "Requirement already satisfied: urllib3<1.27,>=1.21.1 in c:\\users\\rashmitha\\anaconda3\\lib\\site-packages (from requests->huggingface-hub>=0.15.1->sentence-transformers) (1.26.11)\n",
      "Requirement already satisfied: charset-normalizer<3,>=2 in c:\\users\\rashmitha\\anaconda3\\lib\\site-packages (from requests->huggingface-hub>=0.15.1->sentence-transformers) (2.0.4)\n",
      "Requirement already satisfied: certifi>=2017.4.17 in c:\\users\\rashmitha\\anaconda3\\lib\\site-packages (from requests->huggingface-hub>=0.15.1->sentence-transformers) (2022.9.14)\n",
      "Requirement already satisfied: idna<4,>=2.5 in c:\\users\\rashmitha\\anaconda3\\lib\\site-packages (from requests->huggingface-hub>=0.15.1->sentence-transformers) (3.3)\n",
      "Requirement already satisfied: mpmath>=0.19 in c:\\users\\rashmitha\\anaconda3\\lib\\site-packages (from sympy->torch>=1.11.0->sentence-transformers) (1.2.1)\n",
      "Installing collected packages: sentence-transformers\n",
      "  Attempting uninstall: sentence-transformers\n",
      "    Found existing installation: sentence-transformers 2.5.1\n",
      "    Uninstalling sentence-transformers-2.5.1:\n",
      "      Successfully uninstalled sentence-transformers-2.5.1\n",
      "Successfully installed sentence-transformers-2.6.1\n"
     ]
    }
   ],
   "source": [
    "! pip install -U sentence-transformers"
   ]
  },
  {
   "cell_type": "code",
   "execution_count": 5,
   "id": "87f0715e",
   "metadata": {},
   "outputs": [],
   "source": [
    "from sentence_transformers import SentenceTransformer, util"
   ]
  },
  {
   "cell_type": "code",
   "execution_count": 6,
   "id": "fc05a0c7",
   "metadata": {},
   "outputs": [
    {
     "data": {
      "application/vnd.jupyter.widget-view+json": {
       "model_id": "936cc3842cfd42ddb39fa42a5e38b797",
       "version_major": 2,
       "version_minor": 0
      },
      "text/plain": [
       "modules.json:   0%|          | 0.00/349 [00:00<?, ?B/s]"
      ]
     },
     "metadata": {},
     "output_type": "display_data"
    },
    {
     "name": "stderr",
     "output_type": "stream",
     "text": [
      "C:\\Users\\rashmitha\\anaconda3\\lib\\site-packages\\huggingface_hub\\file_download.py:149: UserWarning: `huggingface_hub` cache-system uses symlinks by default to efficiently store duplicated files but your machine does not support them in C:\\Users\\rashmitha\\.cache\\huggingface\\hub\\models--sentence-transformers--all-MiniLM-L6-v2. Caching files will still work but in a degraded version that might require more space on your disk. This warning can be disabled by setting the `HF_HUB_DISABLE_SYMLINKS_WARNING` environment variable. For more details, see https://huggingface.co/docs/huggingface_hub/how-to-cache#limitations.\n",
      "To support symlinks on Windows, you either need to activate Developer Mode or to run Python as an administrator. In order to see activate developer mode, see this article: https://docs.microsoft.com/en-us/windows/apps/get-started/enable-your-device-for-development\n",
      "  warnings.warn(message)\n"
     ]
    },
    {
     "data": {
      "application/vnd.jupyter.widget-view+json": {
       "model_id": "304936e9f5954c089a7f2103239658e7",
       "version_major": 2,
       "version_minor": 0
      },
      "text/plain": [
       "config_sentence_transformers.json:   0%|          | 0.00/116 [00:00<?, ?B/s]"
      ]
     },
     "metadata": {},
     "output_type": "display_data"
    },
    {
     "data": {
      "application/vnd.jupyter.widget-view+json": {
       "model_id": "8b992b6c07cc4972b5942ec2170c1e2e",
       "version_major": 2,
       "version_minor": 0
      },
      "text/plain": [
       "README.md:   0%|          | 0.00/10.7k [00:00<?, ?B/s]"
      ]
     },
     "metadata": {},
     "output_type": "display_data"
    },
    {
     "data": {
      "application/vnd.jupyter.widget-view+json": {
       "model_id": "70e31accaac74382a6726063b786b209",
       "version_major": 2,
       "version_minor": 0
      },
      "text/plain": [
       "sentence_bert_config.json:   0%|          | 0.00/53.0 [00:00<?, ?B/s]"
      ]
     },
     "metadata": {},
     "output_type": "display_data"
    },
    {
     "data": {
      "application/vnd.jupyter.widget-view+json": {
       "model_id": "26e6644ba19f4110941b63b67753879f",
       "version_major": 2,
       "version_minor": 0
      },
      "text/plain": [
       "config.json:   0%|          | 0.00/612 [00:00<?, ?B/s]"
      ]
     },
     "metadata": {},
     "output_type": "display_data"
    },
    {
     "data": {
      "application/vnd.jupyter.widget-view+json": {
       "model_id": "f70778f903c943b2a8a2745ae1f8c879",
       "version_major": 2,
       "version_minor": 0
      },
      "text/plain": [
       "model.safetensors:   0%|          | 0.00/90.9M [00:00<?, ?B/s]"
      ]
     },
     "metadata": {},
     "output_type": "display_data"
    },
    {
     "data": {
      "application/vnd.jupyter.widget-view+json": {
       "model_id": "c34775d85cbb4b938e722aea2de2cf66",
       "version_major": 2,
       "version_minor": 0
      },
      "text/plain": [
       "tokenizer_config.json:   0%|          | 0.00/350 [00:00<?, ?B/s]"
      ]
     },
     "metadata": {},
     "output_type": "display_data"
    },
    {
     "data": {
      "application/vnd.jupyter.widget-view+json": {
       "model_id": "1f88208073b14b08987ed2b9df7f6270",
       "version_major": 2,
       "version_minor": 0
      },
      "text/plain": [
       "vocab.txt:   0%|          | 0.00/232k [00:00<?, ?B/s]"
      ]
     },
     "metadata": {},
     "output_type": "display_data"
    },
    {
     "data": {
      "application/vnd.jupyter.widget-view+json": {
       "model_id": "9f220d0096d5429cad8e0dbe90ca45c3",
       "version_major": 2,
       "version_minor": 0
      },
      "text/plain": [
       "tokenizer.json:   0%|          | 0.00/466k [00:00<?, ?B/s]"
      ]
     },
     "metadata": {},
     "output_type": "display_data"
    },
    {
     "data": {
      "application/vnd.jupyter.widget-view+json": {
       "model_id": "147b17551bc945c99d931304058a60cb",
       "version_major": 2,
       "version_minor": 0
      },
      "text/plain": [
       "special_tokens_map.json:   0%|          | 0.00/112 [00:00<?, ?B/s]"
      ]
     },
     "metadata": {},
     "output_type": "display_data"
    },
    {
     "data": {
      "application/vnd.jupyter.widget-view+json": {
       "model_id": "47410695d2a541c9ae833d33a30d3feb",
       "version_major": 2,
       "version_minor": 0
      },
      "text/plain": [
       "1_Pooling/config.json:   0%|          | 0.00/190 [00:00<?, ?B/s]"
      ]
     },
     "metadata": {},
     "output_type": "display_data"
    }
   ],
   "source": [
    "model = SentenceTransformer('all-MiniLM-L6-v2')"
   ]
  },
  {
   "cell_type": "code",
   "execution_count": 7,
   "id": "3cb3da90",
   "metadata": {},
   "outputs": [],
   "source": [
    "import pandas as pd\n",
    "\n",
    "# Assuming your data is stored in a DataFrame called df\n",
    "\n",
    "# Function to split content into chunks of just below 500 tokens\n",
    "def split_into_chunks(content):\n",
    "    token_window = 500\n",
    "    chunks = []\n",
    "    current_chunk = \"\"\n",
    "    token_count = 0\n",
    "    \n",
    "    for token in content.split():\n",
    "        token_count += 1\n",
    "        if token_count <= token_window:\n",
    "            current_chunk += token + \" \"\n",
    "        else:\n",
    "            chunks.append(current_chunk.strip())\n",
    "            current_chunk = token + \" \"\n",
    "            token_count = 1\n",
    "    \n",
    "    if current_chunk:\n",
    "        chunks.append(current_chunk.strip())\n",
    "    \n",
    "    return chunks\n",
    "\n",
    "# Chunking the decode_content column into smaller parts\n",
    "chunked_content = df['decode_content'].apply(split_into_chunks)\n",
    "\n",
    "# Creating a new DataFrame with the chunked content\n",
    "chunked_df = pd.DataFrame({'num': df['num'], 'name': df['name'], 'chunked_content': chunked_content})\n"
   ]
  },
  {
   "cell_type": "code",
   "execution_count": 8,
   "id": "fd336dae",
   "metadata": {},
   "outputs": [
    {
     "data": {
      "text/html": [
       "<div>\n",
       "<style scoped>\n",
       "    .dataframe tbody tr th:only-of-type {\n",
       "        vertical-align: middle;\n",
       "    }\n",
       "\n",
       "    .dataframe tbody tr th {\n",
       "        vertical-align: top;\n",
       "    }\n",
       "\n",
       "    .dataframe thead th {\n",
       "        text-align: right;\n",
       "    }\n",
       "</style>\n",
       "<table border=\"1\" class=\"dataframe\">\n",
       "  <thead>\n",
       "    <tr style=\"text-align: right;\">\n",
       "      <th></th>\n",
       "      <th>num</th>\n",
       "      <th>name</th>\n",
       "      <th>chunked_content</th>\n",
       "    </tr>\n",
       "  </thead>\n",
       "  <tbody>\n",
       "    <tr>\n",
       "      <th>0</th>\n",
       "      <td>9251120</td>\n",
       "      <td>maybe this time (2014)</td>\n",
       "      <td>[watch video online opensubtitles free browser...</td>\n",
       "    </tr>\n",
       "    <tr>\n",
       "      <th>1</th>\n",
       "      <td>9211589</td>\n",
       "      <td>down the shore s01 e10 and justice for all (1992)</td>\n",
       "      <td>[oh know getting late dont wan na go home im h...</td>\n",
       "    </tr>\n",
       "    <tr>\n",
       "      <th>2</th>\n",
       "      <td>9380845</td>\n",
       "      <td>uncontrollably fond s01 e07 heartache (2016)</td>\n",
       "      <td>[timing subtitle uncontrollable lovebird team ...</td>\n",
       "    </tr>\n",
       "    <tr>\n",
       "      <th>3</th>\n",
       "      <td>9301436</td>\n",
       "      <td>screen two s13 e04 the precious blood (1996)</td>\n",
       "      <td>[ethereal music apiopensubtitlesorg deprecated...</td>\n",
       "    </tr>\n",
       "    <tr>\n",
       "      <th>4</th>\n",
       "      <td>9408707</td>\n",
       "      <td>battlebots (2015)</td>\n",
       "      <td>[chris oh minibots yelling oh leave little bot...</td>\n",
       "    </tr>\n",
       "  </tbody>\n",
       "</table>\n",
       "</div>"
      ],
      "text/plain": [
       "       num                                               name  \\\n",
       "0  9251120                             maybe this time (2014)   \n",
       "1  9211589  down the shore s01 e10 and justice for all (1992)   \n",
       "2  9380845       uncontrollably fond s01 e07 heartache (2016)   \n",
       "3  9301436       screen two s13 e04 the precious blood (1996)   \n",
       "4  9408707                                  battlebots (2015)   \n",
       "\n",
       "                                     chunked_content  \n",
       "0  [watch video online opensubtitles free browser...  \n",
       "1  [oh know getting late dont wan na go home im h...  \n",
       "2  [timing subtitle uncontrollable lovebird team ...  \n",
       "3  [ethereal music apiopensubtitlesorg deprecated...  \n",
       "4  [chris oh minibots yelling oh leave little bot...  "
      ]
     },
     "execution_count": 8,
     "metadata": {},
     "output_type": "execute_result"
    }
   ],
   "source": [
    "chunked_df.head()"
   ]
  },
  {
   "cell_type": "code",
   "execution_count": 9,
   "id": "71c70ecb",
   "metadata": {},
   "outputs": [
    {
     "data": {
      "text/plain": [
       "['watch video online opensubtitles free browser extension osdblinkext couldve another summer set foot sand summer suddenly felt different like going summer would change life summer freedom summer endless possibility summer ooh aah ooh oh oh oh ooh summer youre quite dancer stop come keep dancing whatever im kidding dont get mad huh hey im going get towel stop thought gon na kiss excuse wan na kiss yet mean yet youre girl mean girl girlfriend miss wish dont call miss dont pretend gentleman youre clearly call rude snob bitch douche handsome conceited like huh jerk exactly type leave alone steph aha steph ill call tep remove f way im tonio still tomorrow dont leave yet im going court chose walk away fate different plan councilor teaching basic english literacy well teaching child read write english yes long program run okay entire summer thought could escape somehow found tep couldnt resist huh youre courting instead excuse im court oh youre courted yeah uncle tonio shes one teach u summer dont believe story thats excuse get date gramps uncle erning aunt elma tep suitor approved approved passed mmm dont approve excuse u well going right dear thank sir well go ahead excuse please oh tep tep okay said excuse yet couple already fighting point oh tonio seventy snack seven seven silvery silvery sheep sheep know filipino filipino seventyseven silvery sheep say english say filipino need learn read write speak properly order make living anyway tep dont need learn make living instead seventyseven slippery say instead teaching teach swim sinking boat english proficiency wont save youll dead youre well aware thats part lesson disturbing u irritable hotheaded maybe go swimming sound fun hey kid wan na go swimming yes swimming swimming swimming okay really want swim wan na swim let go first thats want swimming swimming hey tonio swimming swimming put swimming swimming want huh wait minute wait hugging want badly huh course huh hey stop come take tep happened oh uncle tonio stepped sea urchin saved cared made feel alive tep tried ive never seen caramel flan used bread filling taste youll surely fall love really yeah would thought may unlucky finding job youre lucky finding girlfriend look good together heard look good together mean couple mmm quick havent officially courted yet court well save ago course would save id rather get hurt see get hurt court mmm fine sure yes ouch whyd im okay sure okay thank kiss huh kiss im talking bread oh whatever kiss surprised mmm good mmm good told slowly mmhm almost okay yet yeah keep eye closed mmhm one two three wow beautiful tonio like yes know favorite spot town fact beautiful thing ive ever seen mmm saw nice wow youre teasing true ive got one surprise there yes look okay whats blow blow yeah oh cute give hand dont money buy flower got instead tep starting courting okay buy pretty made made yes really made yeah want see made sure wow beautiful made wow youve long time',\n",
       " 'dad started also developed knack know tep enough money working seaman want set furniture shop father dream really wow ill first customer wait question use old wood dont like seeing piece driftwood go waste people see rotten old useless really stop look thats see true beauty unfortunately many people lot people think junk throw away like trash captivated beauty dream kindness heart slowly surely falling ah sorry sorry hurt sorry every moment spent together felt like happily ever wont take long tep cook special chicken skewer tonio huh hey erasing heart tonio love tep vice versa teptep love tonio know love right know wont admit tep see mmm like like let go let go didnt know going happy wherever hold tight oops start paddling serious im kidding come okay tired little bit hey steph steph brother okay family daddy suddenly given surprised vacation leave porky hi maam hi sir hows vacation isnt vacation outreach program wheres abby sleeping asleep steph who hunk one holding hand boyfriend stephanie introduce friend u mom right okay tonio come ill introduce need watch really brother tonio family good evening good evening know tonio put bench somewhere sit maybe swing thatll cool hey okay quiet family much oh family fun im actually jealous wish family like happy complete shame tep cant introduce mom left u kid dont even think know exist wasnt happy simple life thats left dad come tep hmm live knew moment wanted part world wanted mine hey said would kiss im girl right youre something else okay tomorrow well meet give answer give answer give answer there turning back forever need seriously think need sure love forever course want even love forever forever forever mmm love forever mmm slowly world becoming one ouch wait bad ant got kiss first mommy steph late weve waiting come let eat hill oh beautiful mommy see okay oh mommy mmm mommy yes know daddy man youre going love forever tried make summer last forever season come end thats story inspired presentation fairness thats good pitch fabulous beautiful feel delivery topnotch si think course feel matter many time ive heard im still affected teptep tonios summer remember also known summer forget forget forget hello guy seven year ago let move shoe wouldnt able move found happened didnt show got ship thats family told mean tell never saw never talked yet actually there need need closure sometimes closure closure wow right thats reason thing didnt happen never took place let emoticon tell story embarrassingly corny clich think might get rejected right stupid name tonio teptep really go anything else um miss monica thats steph gave one chance come brilliant marketing campaign pitching soap opera maam web series three minute cliffhanger end webisode determine next webisode begin well text poll using kakao emoticon uh example boy girl meet girl feel angry b surprised c angry text emoticon reaction want see next webisode product usage depicted series story set seven year ago time kakaotalk even existence miss monica back story',\n",
       " 'really think target market would like dump entire thing give something better dont waste time client time catch drift mmhm go gift aunt steph wow thank youre welcome share okay one put wheres sauce chicken mommy here pork bun ill eat tomorrow know need learn save father work many year many payable bill rent tuition tuition kid mommy relax would good business got actually profitable think youll get rich selling perfume makeup thats even enough grandkids get dad time eat come let get ready okay dont mind mom enough bring food u fact really like steamed bun bring home leave course daddy ill forget everything else forget steamed bun ouch ouch oh daddy okay hurt fine im okay im okay promise daddy get promoted thats soon ill take u medical care im fine dont need daddy want able walk steph ive therapy seven year weve even prayed manaoag many time think impossible nothing impossible able walk okay try walk long try fall love well maybe im already love secret howard skype date band next week uhhuh yes actually there member entertainment press gon na taiwan malaysia singapore vietnam hong kong sit properly use chopstick uhhuh babe hang phone eat sushi cant need finish wasnt able work pissed earlier yes howard course take boracay palawan rest relaxation mmhm bye howard babe youre naughty youre lucky youre cute expect force learn use chopstick used find sweet use hand feed want learn use chopstick love japanese food happen go date youre gon na use bare hand hold sushi sorry okay thought kind business would like invest yes babe talked uncle erning he going request business permit furniture shop furniture shop kind furniture shop driftwood thats always dream driftwood yeah lot back home going fly babe business set babe first babe singular there one also answer question invest something trendy relevant whats bar highend bar know manila party scene booming right ant italian took care left million million easily vanish dont take care properly actually even million anymore bought house also bought one family bought car dont want invest something surely fail babe ive six month ever wrong hmm much drama okay fine mmm youre dramatic ah miss monica um asked make national campaign success metro manila campus tour see target market like web series set booth provide wifi downloaded app youve got kidding steph client done know maam give rehash crap say improvement youve asking promotion idea promote anyway urgent project work new client want open highend bar want personally take care account want pr bar owner okay well maybe ill give vacant account executive position really said well maybe might promote confidential yes maam bar owner boyfriend ah mmhmm see met anton cruise ship month ago he used live world job transform mingle highend crowd target market bar he opening speaks little bit italian english first language job teach english well yes maam trust yes maam dont mess else catch drift waiter im way waiter hi sir im sorry keep waiting im',\n",
       " 'stephanie asuncion sir anton right anthony actually pleasure meet may take seat sure thank right initial meeting basically u discus vision goal business hope launch miss monica informed wanted open bar talking restobar club lounge oh yeah im sorry im sorry talking head forgot english first language uh understand understood actually english isnt first language language hi honey uh wife gina stupid person youre bos boyfriend better im gon na kill honey im cheating im telling truth time promise time admit youve lying stupid steph wheres cell phone okay ill follow table ah sir im sorry im sorry maam sir wait minute hold lot maam teptep tep teptep uh tep im okay thank thank uh sorry tep tonio oh yeah tonio hello hello im good great even well nice bumping go client who waiting bye tep wait yeah let talk im sorry meet important client cant dont want attend right bye hello hello sir anton good afternoon tep tonio tep awhile steph stephanie stephanie tep fine steph formal well client sir anton sir anton tonio like dont know okay tonio said earlier im good great okay im good since last saw heard became seaman yeah worked cruise ship thats met miss monica right good tep youre uncomfortable tell okay ill ask monica find someone else help course there reason feel uncomfortable right dont worry tonio relax mmm way want say sorry sorry happened happened mean u u u back together mu mu hmm mu mutual understanding think mu stand misunderstanding gosh sorry sorry tonio never u look make feel uncomfortable talk miss monica tell oh im fine problem mu face mu as mu messed one big mistake tonio huge mistake huge mistake wow good day uh tonio around mmm mmm like got vote new girlfriend way im mama mae im sir tonios allaround helper day night stephanie asuncion ah stephanie hey sir tonio visitor shes beautiful alike mama mae tep hello awhile sorry making wait okay im used waiting im actually surprised came hi babe babe ah babe steph already yeah shes im embarrassed cause made wait good dont worry got okay bye love oh oh told told thought couple mama mae never u right tep exactly mmhmm hmm job present public best light possible communicate right message business interview get know make everything clear avoid confusion dont need another mu mu werent misunderstanding misunderstanding oh mmhmm want put bar make monica happy love yeah love like miss monica yes ask question love woman dont get actually get shes beautiful powerful shes rich trying say exactly like oh get sir tonio ah maybe job cause miss monica known dating accomplished men working im currently jobless youre working youre miss monica thats im opening business right havent even thought know want yes rich bos getting wasnt getting anything uh wanted know im monicas money im using bos said using monica thats youre getting truth misunderstand ill look stupid right effect make look stupid huh want job properly okay job job insult',\n",
       " 'thats youre gon na let end okay fine right thank youre welcome wow felt lot resentment know two need mu mu make mommy hey si wheres daddy happened side started hurting sudden turned pale rushed mommy mom okay doc husband he fine test seems stone gallbladder need operate husband schedule procedure immediately based anton said broke every single rule public relation im sorry miss monica please dont fire ought fire wont im giving project liana miss monica need project doesnt seem like want miss monica please dont take project away ill prove im deserving promotion please miss monica please give another chance dont talk talk anton he client far im concerned doesnt wan na see doesnt wan na anything good luck trying convince take back got something say im busy counting monicas money right please forgive please give another chance really need job peace offering mmm thanks tep mad cause insult really hit home know decision wait made choice eventually realized mad chose stupid im sorry left hanging know completely understand board ship work leave without saying word didnt talk come see one last time found hard accept waited even told youll explain everything love come think realized never told loved stupid assume loved oh well guess someone court doesnt mean love love oh well past past let leave behind u seven long year anyway better way ended together might hindrance hmm might successful tonio im really sorry im sorry everything said okay good mmm high five kiss mmm hi im stephanie asuncion pr specialist tonio anton bugayong anton doesnt sound like name doesnt suit yet something relax thats kind bar miss monica want set owner bar thats also image youll need project first step achieving appearance management brand ambassador business like bar posh modern cool posh modern cool indeed thats look going ill take care please sit sir okay ill go ahead mama mae tep going ive got work ill back later dont worry wont leave high dry unlike im leaving going im going buy dried prune killer outfit mama mae better suit better look way wont wear clothes like action star look youre wearing youre wearing look better youre wearing im wearing im wearing dried prune kidding mmm look good need improve communication skill handsome isnt enough oh thats enough enough actually enough think im handsome arent making sure hmm hey tep wait tep hold hold handsome cant help kiss excuse im gon na kiss need facial facial ouch thats gon na hurt tell straight english dont want wear wont force try okay go ahead dont like doesnt unlike doesnt like unli unlike fine give like doesnt dont right stay still sir tep really hurt love miss monica remember know say love hurt wow looking good hmm think look good mmm modern cool whats last one posh posh posh mama mae yeah ill posh mmhmm let posh mama mae ow ow im sorry hurt done bit ow ooh ow hand hurt sorry sorry sir please hold still look',\n",
       " 'yuck dinner fork good salad fork good mmm okay let try without cheat sheet time go whats thought chopstick hard harder many dont worry practice youll able memorize tadaaa yes wow whats mama mae flower im kidding food course dish made tonio peppered pork tonios specialty wow especially wow really tep fork use eat hmm well use hand oh mamae let use hand use foot foot mmm okay im done im full thank liked hmm delicious think take walk help digest food yeah walk around take walk around whole house go ahead idea knew cook back worked cruise ship assigned kitchen thats learned cook hmm thats miss monica fell putting spell food cruise course thats even met met orvieto italy italy yeah spent one year ship hopped ended working caregiver met employer look like grandfather thats felt ease taking care hard time taking care really loneliness get arent many filipino plus seor luigis vineyard provincial area oh last year closest friend visited monica day seor luigi passed away monica one helped really surprised didnt mind work washing dish serving funeral guest really miss monica yeah really doesnt seem type hey shes like thank think youre talking different girlfriend tonio dont know monica like miss monica tell met cruise ship maybe thats bonded seor luigi died left lot money left strict instruction go vacation monica told going cruise went thats got know monica meaning thats meddled monicas muffler mama mae im worried dont want getting hurt tonios answer know mama mae whatever tonio say effect anymore obviously thats first know right first first time meddled meddled muffler whose monicas gosh saying ouch disgusting sorry god im sorry ill shut drink coffee hello babe mean babe muffler mean mama maes fault know may feeling hurt hurting mmm mmhm going well im learning lot shes bit temperamental strict oh god anton yes babe thats ant thats sorry babe uh babe like love look hot steph pick clothes yes steph really good im learning lot except good grammar look hot anyway tep get thing sent sent something guy there special delivery steph hurry want sweet caramel flan sir anton card please thank much package arrived much thank thank much monica happy last night sorry wasnt able drop wire money grandpa medication okay thank food sent thing sent arrived thing there flower steph yet excuse flower miss monica valencia tep pretty think monica like use sticker tell web series previously pitched burden client creating new product thats part directive however would like congratulate work youve done anton major improvement thank enough basic english still need work mmm ready tomorrow ill make sure miss monica first time going public tomorrow dont want make fool mmhm maam thank attending event problem steph donate hair course maam later seat thank thank sir wishing youre english correct oh kindaex miss im one like remember admit youre still hoping like knew didnt mean way sorry im event wait ill text back well see later right go girl meet know want',\n",
       " 'excuse dont want come wont judge youre friend arent friend friend hi sorry im late couldnt use car today took taxi dropped wrong entrance let review miss monica get let go get haircut earlier event come let get table wow hmm tep wow steph oh sir andrew hello tep who thats sir andrew one boss he ex wow english please guy broke monicas heart hey sound good straight english may add course miss monica hello miss monica im sir anton okay lot people um really miss monica sir andrew huh think he date um okay well im still client meeting right wont able make dinner talk anton please okay say cant make hello babe babe singular remember told steph set prepared date cant make know important client meeting important look dont want fight okay let talk tomorrow try understand fine love okay bye okay angry hungry let eat tep let order know tep dont understand monica dislike call babe keep calling ant singular there one full super tep thank help bad monica didnt see youve worked hard worked hard thank oh meeting tomorrow mtvs friend want invest bar date mtv meeting want make reservation tep set furniture shop instead thats really want anyway monica think waste money huh waste money youre good promise shop open ill first customer really sure ill even pr work free really uhhuh know think need show work miss monica im sure shell impressed bring province oh still im editing video presentation client mmm uh way drove home new client look like like tonio mmmm tonio mommy he client god steph he nothing trouble need get away unbelievable go province ill introduce family ill also show woodwork want prove setting furniture shop wont waste money cant see running highend bar missed dinner last night youre backing monica im interested setting bar study keep insisting furniture thing monica youre girlfriend dont seem faith unlike steph complete faith ant sorry faith okay im gon na reconsider furniture thing cant go province maybe next time okay move meeting mr reyes pm tell im way okay yes maam miss monica yes ask something okay make fast im busy saw car outside restaurant last night didnt come follow actually kind feel guilty wish life le complicated met italy still heartbroken andrew anton told wanted come cruise okay normally wouldnt allowed barely knew know made laugh made feel beautiful special ever felt way steph rural attitude corny humor even bad grammar wonderful back still paradise back real world better introduce family friend fellow passenger met cruise ship there way would tell im relationship seaman turned caregiver embarrassing honorable job steph dont naive world pr thats point first guy willing anything willing change thats really want relationship work confronting like planting seed hope furniture shop miss monica could give anton chance told would reconsider ive proven wrong going waste money catch drift steph think going beyond miss monica asking girlfriendlevel effort guy claim friend steph im concerned might another mu misunderstanding major uncertainty',\n",
       " 'come let grab lunch okay might lose weight oh gosh im super excited im ready beach see look put sunscreen oh show little excitement cant believe finally get introduce family mmmm tep youre uniform session heard mtv cant go province see furniture yeah im kind bummed mmm youre allowed mope im im going make sure mtv still see furniture instead coming see work work come see okay ill tep yeah mmm huh mmm mmm oh ah got yes mmm huh there there still got food give want finished mama mae might get fat yes braised pork tep let eat sleep room tonight huh oh gosh naughty ill sleep couch ill fine bad really look good together hmm heard say never u theyre fooling youre like newlywed couple separated sadness thats true oh yes almost didnt board ship remember huh uncle thats true tep might believe remember manila drunk every night every time got drunk sang tep tep tep tep tep matching tear thats much tep might believe much drunk even dunk head drum water get rid hangover hey steph got drunk hey got drunk tep tonio didnt know didnt want talk steph back okay enough reeked booze hyro right mom wait got drunk wasnt drunk came back look second time came back susan three month later tep really come back oh came back wait tease like tonio doesnt monica even waiting hyro thats enough dont remember mom one tep cried daddy came pick okay stop stop son mom pas rice eat everything okay thats right seems youre getting thinner delicious missed tonios cooking one good cooked mama mae still im hard time sleeping cold drink someone else catch cold thank still cold curable ill able sleep dont think there cure whatever youre feeling kook well im okay steph would like remind youre future promotion past tonio nothing okay please dont go back stupid okay love two old friend meet wearin older face talk place theyve steph two old sweetheart get fell apart somewhere long ago find already past know someday theyd meet need reminisin maybe time itll lovin theyll find maybe friend shes back life feel right maybe time love wont end yeah yeah yeah yeah get drunk come back old feeling tonio steph let go back one way back young know love real somehow thing never change even time hasnt cooled flame burnin even brighter okay got another chance take ah wow like newlywed maybe time itll lovin theyll find maybe friend shes back life feel right maybe time love wont end okay ready one two three go piece driftwood may look like nothing beginning always find beautiful oh sorry dad asking pick say he got lunch wont take long ill go get wait hyro ill quick um let continue sure sure okay stay yeah spot okay game okay one two three go dont work driftwood also work recycled metal like one recycled wood like thing cant throw away cant forget cant let go tonio thats whats written wasnt',\n",
       " 'easy walk away difficult decision ever make time right thing shouldnt saying thing thought youd lost come back take back precious realize still love got hurt tep know never u never u please stop flirting tep sorry sorry think im flirting im like dont know dont know feel nothing tonio dont feel anything shouldnt feel anything shouldnt feel anything never u loved tep loved believe loved tonio first love everyone made fun never became couple went crazy every part body hurting sad every part body longing thats came back thought might forgive got drunk night thats dad pick tired dark got accident dad paralyzed stupidity day im still paying price stupidity even pain youve caused still love tonio still love think youre one suffered night supposed meet mother talked told would hinder reaching dream really wanted take could never go back lot take coward wasnt ready tep coward admit tonio coward wasnt ready life could offer supposed give life used life wanted life enough love wanted give good life didnt want go hardship said heard could told wait sure ready would waited matter long loved tonio showed waited tep please forgive came meet there way could left tep im sorry coming back mistake already already love someone else steph im sorry time ive done nothing hurt please tonio let stop tell steph please stop telling love tell please spent weekend province steph didnt tell whats talk driftwood furniture monica really want think youre gon na successful teptep think even younger always believed dream teptep stephanie yeah steph knew even long time ago important didnt tell nothing tell dont lie monica thats past launching web series cliffhanger text poll kakao find next webisode begin well developing new group emoticon tell story going like animated short smell promotion generate buzz going launch via campus tour like like fresh innovative story short film love story girl boy meet one summer letter stand anton monica love story cut short summer year later meet time monica anton happy ending okay like go congratulation monica came yes thats shes best good job monica thank oh way would like introduce new project head liana mendoza newest account executive congrats congrats liana thank maam deserve deserve promotion gave liana excuse get way everything presented idea didnt even bother tell werent one put together one worked worked including boyfriend dont dare deny see right didnt anything wrong wanted wanted steal would never steal like wanted go back province wanted bring back past oh yes know everything thats case know past better he boyfriend stop delusional cant compete dont even try lying backstabbing boyfriendsnatching slut really coming shallow manipulative twofaced bitch dont want deal garbage im done yet let go listen call liar time come clean really love tonio yes love dont truly love wouldnt force change good enough dont even try dont dare call backstabber never betrayed respected relationship tonio right calling slut youre fired quit tep babe right time resign stephanie mommy cant stand bos anymore shes unfair',\n",
       " 'also tonio tonio hell stephanie almost quit school youve quit job youre going destroy man youre letting make fool else suffer time havent learned lesson already left wouldnt done didnt talk didnt scare thinking would ruin life dont worry wont let get fooled wont let get destroyed love tonio even thats really feel think wrong might get hurt dont want give reason love dont want another seven year go whenever look see mistake tonio calm tonio okay feeling ill maybe shouldnt go monicas party mama mae monica expecting ive waiting long time dont look happy look like youd rather go somewhere else mama mae monica girlfriend changed saying go change good long change better thats english whats right know admire determination stay monica youre sticking might stopping experiencing joy true love keep mind tonio determination love hi babe look great mmm stand straight um ready want introduce friend come anton monica told plan open bar picked location still looking place actually anton still research already know there lot bar open right wan na make sure stand know anton love take calculated risk come anton know worked abroad im sure know taking risk yeah fact ive many country started working actually anton worked many place met working big wine ranch italy thought done know businessman always businessman actually im sure im good businessman youre right im used taking risk thats jumped ship become illegal immigrant oh seaman thats interesting hard lot people helped thats much respect wealthy people like got rich told never feel ashamed money came blessing blessing given kind person accepted youre really lucky thank wonderful evening please excuse go uh excuse ill back think theyre fight okay anton anton humiliated front guest defended felt small didnt embarrass monica embarrassed protecting protecting theyre judgmental didnt even mind bad english unsophisticated monica think werent judging nice already judging mind youre judging face couldnt even let speak youre afraid everything say embarrass oh god juvenile stephanie steph nothing well ever since started working youve changed isnt want change make sound like change awful thing anton tonio name tonio isnt easy tonio isnt easy either monica admit im enough im flawed eye pain feel right mother left pain felt leave steph felt wasnt good enough love let change thinking im finally good fit might love wholeheartedly realize never happen never good fit matter much study english matter hard try fit friend matter clothes wear im still nothing trash im tired monica saying im sorry daddy steph come steph okay okay get tired get hurt even okay make mistake also forgive daddy daddy im sorry im sorry happened steph never blamed mom stop thinking like doesnt want get hurt know even though got paralyzed youre one deeper wound doesnt know help daddy still resents happened steph steph im sorry didnt mean love much love mommy stephanie asuncion time spread wing let start firm thats right think come girl fun plus already first client really hi tep oh yes maybe shes already guy steph',\n",
       " 'hi mr stewart want meet one partner pr company nice finally meet steph oh hello nice meet im glad got see exhibit open tomorrow let show around right way sure let go piece locally made mmhmm business partner also design furniture collect driftwood let go yeah there another display hey teptep pssst teptep arent answering rude snob bitch finally smiled hey shes looking hmm hey client waiting tep im impressed finally fulfilled dream yes incomplete without monica tep id like court make sure know love much forever forever forever case clear together tonio love teptep teptep love tonio tep im ready know made wait im tep give one chance please course go tonio oh oh yes oh oops youre heavy sorry two old friend meet hey mmm im still courting already want kiss oh sorry thought mu mu go hate misunderstanding mu u u u couple mmhmm kiss kiss mmhmm fine there nothing okay mmm time parent strict parent arent friend gone shes smilin like used smile way back shes feelin like used feel way back tried somethin kept waiting magic moment oh maybe time itll lovin theyll find maybe friend oh shes back life feel right maybe time maybe time maybe time love wont end two old friend meet wearin older face talk place theyve two old sweetheart fell apart somewhere long ago know someday theyd meet need reminisin maybe time itll lovin theyll find maybe friend shes back life feel right maybe time love wont end yeah yeah yeah yeah old feeling back one way back young know love real somehow thing never change even time hasnt cooled flame burnin even brighter got another chance take maybe time itll lovin theyll find maybe friend shes back life feel right maybe time love wont end shes smilin like used smile way back shes feelin like used feel way back tried somethin kept waiting magic moment oh maybe time itll lovin theyll find maybe friend oh please rate subtitle wwwosdblinkapcu help user choose best subtitle']"
      ]
     },
     "execution_count": 9,
     "metadata": {},
     "output_type": "execute_result"
    }
   ],
   "source": [
    "chunked_df.iloc[0,2]"
   ]
  },
  {
   "cell_type": "code",
   "execution_count": 30,
   "id": "728da1a9",
   "metadata": {},
   "outputs": [
    {
     "name": "stdout",
     "output_type": "stream",
     "text": [
      "       num                                               name  \\\n",
      "0  9251120                             maybe this time (2014)   \n",
      "1  9211589  down the shore s01 e10 and justice for all (1992)   \n",
      "2  9380845       uncontrollably fond s01 e07 heartache (2016)   \n",
      "3  9301436       screen two s13 e04 the precious blood (1996)   \n",
      "4  9408707                                  battlebots (2015)   \n",
      "\n",
      "                                             content  \\\n",
      "0  b'PK\\x03\\x04\\x14\\x00\\x00\\x00\\x08\\x00\\x89\\x9a\\x...   \n",
      "1  b'PK\\x03\\x04\\x14\\x00\\x00\\x00\\x08\\x007\\x8f\\x99V...   \n",
      "2  b'PK\\x03\\x04\\x14\\x00\\x00\\x00\\x08\\x00\\x8f\\x19\\x...   \n",
      "3  b'PK\\x03\\x04\\x14\\x00\\x00\\x00\\x08\\x00[\\xaa\\x99V...   \n",
      "4  b'PK\\x03\\x04\\x14\\x00\\x00\\x00\\x08\\x00\\xf4<\\x9aV...   \n",
      "\n",
      "                                      decode_content  \\\n",
      "0  watch video online opensubtitles free browser ...   \n",
      "1  oh know getting late dont wan na go home im hu...   \n",
      "2  timing subtitle uncontrollable lovebird team v...   \n",
      "3  ethereal music apiopensubtitlesorg deprecated ...   \n",
      "4  chris oh minibots yelling oh leave little bot ...   \n",
      "\n",
      "                                preprocessed_content  \\\n",
      "0  w a t c h   v i d e o   o n l i n e   o p e n ...   \n",
      "1  o h   k n o w   g e t t i n g   l a t e   d o ...   \n",
      "2  t i m i n g   s u b t i t l e   u n c o n t r ...   \n",
      "3  e t h e r e a l   m u s i c   a p i o p e n s ...   \n",
      "4  c h r i s   o h   m i n i b o t s   y e l l i ...   \n",
      "\n",
      "                                          embeddings  \n",
      "0  [-0.012728696689009666, -0.02849053405225277, ...  \n",
      "1  [-0.01504597533494234, -0.03527138754725456, 0...  \n",
      "2  [-0.01909727044403553, -0.0297322366386652, 0....  \n",
      "3  [-0.015867426991462708, -0.03858168050646782, ...  \n",
      "4  [-0.008731151930987835, -0.037723977118730545,...  \n"
     ]
    }
   ],
   "source": [
    "import numpy as np\n",
    "df['embeddings'] = np.array(embeddings).tolist()\n",
    "\n",
    "# Print the DataFrame with the new 'embeddings' column\n",
    "print(df.head())"
   ]
  },
  {
   "cell_type": "code",
   "execution_count": 24,
   "id": "a5f94a76",
   "metadata": {},
   "outputs": [
    {
     "data": {
      "application/vnd.jupyter.widget-view+json": {
       "model_id": "cf63a9c2ef9a47a085a2b70219e747ec",
       "version_major": 2,
       "version_minor": 0
      },
      "text/plain": [
       "Batches:   0%|          | 0/1290 [00:03<?, ?it/s]"
      ]
     },
     "metadata": {},
     "output_type": "display_data"
    }
   ],
   "source": [
    "name_embeddings = model.encode(chunked_df['name'].tolist(), show_progress_bar=True)"
   ]
  },
  {
   "cell_type": "code",
   "execution_count": 36,
   "id": "a9c04a23",
   "metadata": {},
   "outputs": [
    {
     "name": "stdout",
     "output_type": "stream",
     "text": [
      "[[-0.08506689 -0.0453558   0.02335279 ... -0.06229279  0.00466368\n",
      "   0.00673679]\n",
      " [-0.0863592   0.02191741 -0.00492914 ... -0.0225048  -0.03603494\n",
      "  -0.02318214]\n",
      " [-0.08913927  0.02585612  0.02281932 ...  0.00333822 -0.06849632\n",
      "   0.00495278]\n",
      " ...\n",
      " [-0.0212401  -0.09283    -0.02332689 ... -0.0014848   0.02656444\n",
      "   0.04163291]\n",
      " [-0.11251704  0.05413727  0.0014204  ... -0.01148442  0.01597513\n",
      "   0.00430934]\n",
      " [-0.10465179  0.12385752  0.03278401 ... -0.09214598 -0.08786763\n",
      "  -0.03203247]]\n"
     ]
    }
   ],
   "source": [
    "print(name_embeddings)"
   ]
  },
  {
   "cell_type": "code",
   "execution_count": 34,
   "id": "3cb33d7d",
   "metadata": {},
   "outputs": [
    {
     "name": "stdout",
     "output_type": "stream",
     "text": [
      "       num                                               name  \\\n",
      "0  9251120                             maybe this time (2014)   \n",
      "1  9211589  down the shore s01 e10 and justice for all (1992)   \n",
      "2  9380845       uncontrollably fond s01 e07 heartache (2016)   \n",
      "3  9301436       screen two s13 e04 the precious blood (1996)   \n",
      "4  9408707                                  battlebots (2015)   \n",
      "\n",
      "                                             content  \\\n",
      "0  b'PK\\x03\\x04\\x14\\x00\\x00\\x00\\x08\\x00\\x89\\x9a\\x...   \n",
      "1  b'PK\\x03\\x04\\x14\\x00\\x00\\x00\\x08\\x007\\x8f\\x99V...   \n",
      "2  b'PK\\x03\\x04\\x14\\x00\\x00\\x00\\x08\\x00\\x8f\\x19\\x...   \n",
      "3  b'PK\\x03\\x04\\x14\\x00\\x00\\x00\\x08\\x00[\\xaa\\x99V...   \n",
      "4  b'PK\\x03\\x04\\x14\\x00\\x00\\x00\\x08\\x00\\xf4<\\x9aV...   \n",
      "\n",
      "                                      decode_content  \\\n",
      "0  watch video online opensubtitles free browser ...   \n",
      "1  oh know getting late dont wan na go home im hu...   \n",
      "2  timing subtitle uncontrollable lovebird team v...   \n",
      "3  ethereal music apiopensubtitlesorg deprecated ...   \n",
      "4  chris oh minibots yelling oh leave little bot ...   \n",
      "\n",
      "                                preprocessed_content  \\\n",
      "0  w a t c h   v i d e o   o n l i n e   o p e n ...   \n",
      "1  o h   k n o w   g e t t i n g   l a t e   d o ...   \n",
      "2  t i m i n g   s u b t i t l e   u n c o n t r ...   \n",
      "3  e t h e r e a l   m u s i c   a p i o p e n s ...   \n",
      "4  c h r i s   o h   m i n i b o t s   y e l l i ...   \n",
      "\n",
      "                                          embeddings  \n",
      "0  [-0.012728696689009666, -0.02849053405225277, ...  \n",
      "1  [-0.01504597533494234, -0.03527138754725456, 0...  \n",
      "2  [-0.01909727044403553, -0.0297322366386652, 0....  \n",
      "3  [-0.015867426991462708, -0.03858168050646782, ...  \n",
      "4  [-0.008731151930987835, -0.037723977118730545,...  \n"
     ]
    }
   ],
   "source": [
    "\n",
    "print(df.head())"
   ]
  },
  {
   "cell_type": "code",
   "execution_count": 35,
   "id": "bbf2811d",
   "metadata": {},
   "outputs": [
    {
     "data": {
      "text/html": [
       "<div>\n",
       "<style scoped>\n",
       "    .dataframe tbody tr th:only-of-type {\n",
       "        vertical-align: middle;\n",
       "    }\n",
       "\n",
       "    .dataframe tbody tr th {\n",
       "        vertical-align: top;\n",
       "    }\n",
       "\n",
       "    .dataframe thead th {\n",
       "        text-align: right;\n",
       "    }\n",
       "</style>\n",
       "<table border=\"1\" class=\"dataframe\">\n",
       "  <thead>\n",
       "    <tr style=\"text-align: right;\">\n",
       "      <th></th>\n",
       "      <th>num</th>\n",
       "      <th>name</th>\n",
       "      <th>chunked_content</th>\n",
       "    </tr>\n",
       "  </thead>\n",
       "  <tbody>\n",
       "    <tr>\n",
       "      <th>0</th>\n",
       "      <td>9251120</td>\n",
       "      <td>maybe this time (2014)</td>\n",
       "      <td>[watch video online opensubtitles free browser...</td>\n",
       "    </tr>\n",
       "    <tr>\n",
       "      <th>1</th>\n",
       "      <td>9211589</td>\n",
       "      <td>down the shore s01 e10 and justice for all (1992)</td>\n",
       "      <td>[oh know getting late dont wan na go home im h...</td>\n",
       "    </tr>\n",
       "    <tr>\n",
       "      <th>2</th>\n",
       "      <td>9380845</td>\n",
       "      <td>uncontrollably fond s01 e07 heartache (2016)</td>\n",
       "      <td>[timing subtitle uncontrollable lovebird team ...</td>\n",
       "    </tr>\n",
       "    <tr>\n",
       "      <th>3</th>\n",
       "      <td>9301436</td>\n",
       "      <td>screen two s13 e04 the precious blood (1996)</td>\n",
       "      <td>[ethereal music apiopensubtitlesorg deprecated...</td>\n",
       "    </tr>\n",
       "    <tr>\n",
       "      <th>4</th>\n",
       "      <td>9408707</td>\n",
       "      <td>battlebots (2015)</td>\n",
       "      <td>[chris oh minibots yelling oh leave little bot...</td>\n",
       "    </tr>\n",
       "  </tbody>\n",
       "</table>\n",
       "</div>"
      ],
      "text/plain": [
       "       num                                               name  \\\n",
       "0  9251120                             maybe this time (2014)   \n",
       "1  9211589  down the shore s01 e10 and justice for all (1992)   \n",
       "2  9380845       uncontrollably fond s01 e07 heartache (2016)   \n",
       "3  9301436       screen two s13 e04 the precious blood (1996)   \n",
       "4  9408707                                  battlebots (2015)   \n",
       "\n",
       "                                     chunked_content  \n",
       "0  [watch video online opensubtitles free browser...  \n",
       "1  [oh know getting late dont wan na go home im h...  \n",
       "2  [timing subtitle uncontrollable lovebird team ...  \n",
       "3  [ethereal music apiopensubtitlesorg deprecated...  \n",
       "4  [chris oh minibots yelling oh leave little bot...  "
      ]
     },
     "execution_count": 35,
     "metadata": {},
     "output_type": "execute_result"
    }
   ],
   "source": [
    "chunked_df.head()"
   ]
  },
  {
   "cell_type": "code",
   "execution_count": 38,
   "id": "be5e8e14",
   "metadata": {},
   "outputs": [
    {
     "name": "stdout",
     "output_type": "stream",
     "text": [
      "       num                                               name  \\\n",
      "0  9251120                             maybe this time (2014)   \n",
      "1  9211589  down the shore s01 e10 and justice for all (1992)   \n",
      "2  9380845       uncontrollably fond s01 e07 heartache (2016)   \n",
      "3  9301436       screen two s13 e04 the precious blood (1996)   \n",
      "4  9408707                                  battlebots (2015)   \n",
      "\n",
      "                                             content  \\\n",
      "0  b'PK\\x03\\x04\\x14\\x00\\x00\\x00\\x08\\x00\\x89\\x9a\\x...   \n",
      "1  b'PK\\x03\\x04\\x14\\x00\\x00\\x00\\x08\\x007\\x8f\\x99V...   \n",
      "2  b'PK\\x03\\x04\\x14\\x00\\x00\\x00\\x08\\x00\\x8f\\x19\\x...   \n",
      "3  b'PK\\x03\\x04\\x14\\x00\\x00\\x00\\x08\\x00[\\xaa\\x99V...   \n",
      "4  b'PK\\x03\\x04\\x14\\x00\\x00\\x00\\x08\\x00\\xf4<\\x9aV...   \n",
      "\n",
      "                                      decode_content  \\\n",
      "0  watch video online opensubtitles free browser ...   \n",
      "1  oh know getting late dont wan na go home im hu...   \n",
      "2  timing subtitle uncontrollable lovebird team v...   \n",
      "3  ethereal music apiopensubtitlesorg deprecated ...   \n",
      "4  chris oh minibots yelling oh leave little bot ...   \n",
      "\n",
      "                                preprocessed_content  \\\n",
      "0  w a t c h   v i d e o   o n l i n e   o p e n ...   \n",
      "1  o h   k n o w   g e t t i n g   l a t e   d o ...   \n",
      "2  t i m i n g   s u b t i t l e   u n c o n t r ...   \n",
      "3  e t h e r e a l   m u s i c   a p i o p e n s ...   \n",
      "4  c h r i s   o h   m i n i b o t s   y e l l i ...   \n",
      "\n",
      "                                          embeddings  \\\n",
      "0  [-0.012728696689009666, -0.02849053405225277, ...   \n",
      "1  [-0.01504597533494234, -0.03527138754725456, 0...   \n",
      "2  [-0.01909727044403553, -0.0297322366386652, 0....   \n",
      "3  [-0.015867426991462708, -0.03858168050646782, ...   \n",
      "4  [-0.008731151930987835, -0.037723977118730545,...   \n",
      "\n",
      "                                     name_embeddings  \n",
      "0  [-0.08506689220666885, -0.04535580053925514, 0...  \n",
      "1  [-0.08635919541120529, 0.02191741392016411, -0...  \n",
      "2  [-0.08913926780223846, 0.025856122374534607, 0...  \n",
      "3  [-0.13012148439884186, 0.05022076144814491, -0...  \n",
      "4  [-0.13012008368968964, 0.046329960227012634, 0...  \n"
     ]
    }
   ],
   "source": [
    "df['name_embeddings'] = name_embeddings.tolist()\n",
    "\n",
    "# Print the DataFrame with the new 'name_embeddings' column\n",
    "print(df.head())"
   ]
  },
  {
   "cell_type": "code",
   "execution_count": 52,
   "id": "893cd957",
   "metadata": {},
   "outputs": [
    {
     "data": {
      "text/html": [
       "<div>\n",
       "<style scoped>\n",
       "    .dataframe tbody tr th:only-of-type {\n",
       "        vertical-align: middle;\n",
       "    }\n",
       "\n",
       "    .dataframe tbody tr th {\n",
       "        vertical-align: top;\n",
       "    }\n",
       "\n",
       "    .dataframe thead th {\n",
       "        text-align: right;\n",
       "    }\n",
       "</style>\n",
       "<table border=\"1\" class=\"dataframe\">\n",
       "  <thead>\n",
       "    <tr style=\"text-align: right;\">\n",
       "      <th></th>\n",
       "      <th>num</th>\n",
       "      <th>name</th>\n",
       "      <th>content</th>\n",
       "      <th>decode_content</th>\n",
       "      <th>preprocessed_content</th>\n",
       "      <th>embeddings</th>\n",
       "      <th>name_embeddings</th>\n",
       "    </tr>\n",
       "  </thead>\n",
       "  <tbody>\n",
       "    <tr>\n",
       "      <th>0</th>\n",
       "      <td>9251120</td>\n",
       "      <td>maybe this time (2014)</td>\n",
       "      <td>b'PK\\x03\\x04\\x14\\x00\\x00\\x00\\x08\\x00\\x89\\x9a\\x...</td>\n",
       "      <td>watch video online opensubtitles free browser ...</td>\n",
       "      <td>w a t c h   v i d e o   o n l i n e   o p e n ...</td>\n",
       "      <td>[-0.012728696689009666, -0.02849053405225277, ...</td>\n",
       "      <td>[-0.08506689220666885, -0.04535580053925514, 0...</td>\n",
       "    </tr>\n",
       "    <tr>\n",
       "      <th>1</th>\n",
       "      <td>9211589</td>\n",
       "      <td>down the shore s01 e10 and justice for all (1992)</td>\n",
       "      <td>b'PK\\x03\\x04\\x14\\x00\\x00\\x00\\x08\\x007\\x8f\\x99V...</td>\n",
       "      <td>oh know getting late dont wan na go home im hu...</td>\n",
       "      <td>o h   k n o w   g e t t i n g   l a t e   d o ...</td>\n",
       "      <td>[-0.01504597533494234, -0.03527138754725456, 0...</td>\n",
       "      <td>[-0.08635919541120529, 0.02191741392016411, -0...</td>\n",
       "    </tr>\n",
       "    <tr>\n",
       "      <th>2</th>\n",
       "      <td>9380845</td>\n",
       "      <td>uncontrollably fond s01 e07 heartache (2016)</td>\n",
       "      <td>b'PK\\x03\\x04\\x14\\x00\\x00\\x00\\x08\\x00\\x8f\\x19\\x...</td>\n",
       "      <td>timing subtitle uncontrollable lovebird team v...</td>\n",
       "      <td>t i m i n g   s u b t i t l e   u n c o n t r ...</td>\n",
       "      <td>[-0.01909727044403553, -0.0297322366386652, 0....</td>\n",
       "      <td>[-0.08913926780223846, 0.025856122374534607, 0...</td>\n",
       "    </tr>\n",
       "    <tr>\n",
       "      <th>3</th>\n",
       "      <td>9301436</td>\n",
       "      <td>screen two s13 e04 the precious blood (1996)</td>\n",
       "      <td>b'PK\\x03\\x04\\x14\\x00\\x00\\x00\\x08\\x00[\\xaa\\x99V...</td>\n",
       "      <td>ethereal music apiopensubtitlesorg deprecated ...</td>\n",
       "      <td>e t h e r e a l   m u s i c   a p i o p e n s ...</td>\n",
       "      <td>[-0.015867426991462708, -0.03858168050646782, ...</td>\n",
       "      <td>[-0.13012148439884186, 0.05022076144814491, -0...</td>\n",
       "    </tr>\n",
       "    <tr>\n",
       "      <th>4</th>\n",
       "      <td>9408707</td>\n",
       "      <td>battlebots (2015)</td>\n",
       "      <td>b'PK\\x03\\x04\\x14\\x00\\x00\\x00\\x08\\x00\\xf4&lt;\\x9aV...</td>\n",
       "      <td>chris oh minibots yelling oh leave little bot ...</td>\n",
       "      <td>c h r i s   o h   m i n i b o t s   y e l l i ...</td>\n",
       "      <td>[-0.008731151930987835, -0.037723977118730545,...</td>\n",
       "      <td>[-0.13012008368968964, 0.046329960227012634, 0...</td>\n",
       "    </tr>\n",
       "  </tbody>\n",
       "</table>\n",
       "</div>"
      ],
      "text/plain": [
       "       num                                               name  \\\n",
       "0  9251120                             maybe this time (2014)   \n",
       "1  9211589  down the shore s01 e10 and justice for all (1992)   \n",
       "2  9380845       uncontrollably fond s01 e07 heartache (2016)   \n",
       "3  9301436       screen two s13 e04 the precious blood (1996)   \n",
       "4  9408707                                  battlebots (2015)   \n",
       "\n",
       "                                             content  \\\n",
       "0  b'PK\\x03\\x04\\x14\\x00\\x00\\x00\\x08\\x00\\x89\\x9a\\x...   \n",
       "1  b'PK\\x03\\x04\\x14\\x00\\x00\\x00\\x08\\x007\\x8f\\x99V...   \n",
       "2  b'PK\\x03\\x04\\x14\\x00\\x00\\x00\\x08\\x00\\x8f\\x19\\x...   \n",
       "3  b'PK\\x03\\x04\\x14\\x00\\x00\\x00\\x08\\x00[\\xaa\\x99V...   \n",
       "4  b'PK\\x03\\x04\\x14\\x00\\x00\\x00\\x08\\x00\\xf4<\\x9aV...   \n",
       "\n",
       "                                      decode_content  \\\n",
       "0  watch video online opensubtitles free browser ...   \n",
       "1  oh know getting late dont wan na go home im hu...   \n",
       "2  timing subtitle uncontrollable lovebird team v...   \n",
       "3  ethereal music apiopensubtitlesorg deprecated ...   \n",
       "4  chris oh minibots yelling oh leave little bot ...   \n",
       "\n",
       "                                preprocessed_content  \\\n",
       "0  w a t c h   v i d e o   o n l i n e   o p e n ...   \n",
       "1  o h   k n o w   g e t t i n g   l a t e   d o ...   \n",
       "2  t i m i n g   s u b t i t l e   u n c o n t r ...   \n",
       "3  e t h e r e a l   m u s i c   a p i o p e n s ...   \n",
       "4  c h r i s   o h   m i n i b o t s   y e l l i ...   \n",
       "\n",
       "                                          embeddings  \\\n",
       "0  [-0.012728696689009666, -0.02849053405225277, ...   \n",
       "1  [-0.01504597533494234, -0.03527138754725456, 0...   \n",
       "2  [-0.01909727044403553, -0.0297322366386652, 0....   \n",
       "3  [-0.015867426991462708, -0.03858168050646782, ...   \n",
       "4  [-0.008731151930987835, -0.037723977118730545,...   \n",
       "\n",
       "                                     name_embeddings  \n",
       "0  [-0.08506689220666885, -0.04535580053925514, 0...  \n",
       "1  [-0.08635919541120529, 0.02191741392016411, -0...  \n",
       "2  [-0.08913926780223846, 0.025856122374534607, 0...  \n",
       "3  [-0.13012148439884186, 0.05022076144814491, -0...  \n",
       "4  [-0.13012008368968964, 0.046329960227012634, 0...  "
      ]
     },
     "execution_count": 52,
     "metadata": {},
     "output_type": "execute_result"
    }
   ],
   "source": [
    "df.head()"
   ]
  },
  {
   "cell_type": "code",
   "execution_count": 57,
   "id": "40c518e8",
   "metadata": {},
   "outputs": [
    {
     "name": "stdout",
     "output_type": "stream",
     "text": [
      "DataFrame stored in CSV format at: C:\\Users\\rashmitha\\Downloads\\search engine\\embeddings_data.csv\n"
     ]
    }
   ],
   "source": [
    "# Assuming you have a DataFrame df that you want to store in CSV format\n",
    "\n",
    "# Specify the path where you want to save the CSV file\n",
    "csv_file_path = r\"C:\\Users\\rashmitha\\Downloads\\search engine\\embeddings_data.csv\"\n",
    "\n",
    "# Store the DataFrame in CSV format\n",
    "df.to_csv(csv_file_path, index=False)\n",
    "\n",
    "# Print confirmation\n",
    "print(f\"DataFrame stored in CSV format at: {csv_file_path}\")"
   ]
  }
 ],
 "metadata": {
  "kernelspec": {
   "display_name": "Python 3 (ipykernel)",
   "language": "python",
   "name": "python3"
  },
  "language_info": {
   "codemirror_mode": {
    "name": "ipython",
    "version": 3
   },
   "file_extension": ".py",
   "mimetype": "text/x-python",
   "name": "python",
   "nbconvert_exporter": "python",
   "pygments_lexer": "ipython3",
   "version": "3.11.5"
  }
 },
 "nbformat": 4,
 "nbformat_minor": 5
}
